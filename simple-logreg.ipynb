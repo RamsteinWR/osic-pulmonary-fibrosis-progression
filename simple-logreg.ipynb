{
 "cells": [
  {
   "cell_type": "code",
   "execution_count": 1,
   "metadata": {
    "_cell_guid": "b1076dfc-b9ad-4769-8c92-a6c4dae69d19",
    "_uuid": "8f2839f25d086af736a60e9eeb907d3b93b6e0e5",
    "execution": {
     "iopub.execute_input": "2020-10-05T12:23:51.286614Z",
     "iopub.status.busy": "2020-10-05T12:23:51.285687Z",
     "iopub.status.idle": "2020-10-05T12:23:52.299003Z",
     "shell.execute_reply": "2020-10-05T12:23:52.298169Z"
    },
    "papermill": {
     "duration": 1.030385,
     "end_time": "2020-10-05T12:23:52.299142",
     "exception": false,
     "start_time": "2020-10-05T12:23:51.268757",
     "status": "completed"
    },
    "tags": []
   },
   "outputs": [],
   "source": [
    "import numpy as np\n",
    "import pandas as pd\n",
    "from sklearn.preprocessing import LabelEncoder\n",
    "import matplotlib.pyplot as plt\n",
    "import os\n",
    "from pathlib import Path\n",
    "from sklearn.model_selection import KFold\n",
    "from sklearn.metrics import mean_absolute_error\n",
    "\n",
    "le = LabelEncoder()\n",
    "ROOT = Path(\"../input/osic-pulmonary-fibrosis-progression\")"
   ]
  },
  {
   "cell_type": "code",
   "execution_count": 2,
   "metadata": {
    "execution": {
     "iopub.execute_input": "2020-10-05T12:23:52.326476Z",
     "iopub.status.busy": "2020-10-05T12:23:52.325571Z",
     "iopub.status.idle": "2020-10-05T12:23:52.350858Z",
     "shell.execute_reply": "2020-10-05T12:23:52.350079Z"
    },
    "papermill": {
     "duration": 0.041858,
     "end_time": "2020-10-05T12:23:52.350977",
     "exception": false,
     "start_time": "2020-10-05T12:23:52.309119",
     "status": "completed"
    },
    "tags": []
   },
   "outputs": [],
   "source": [
    "train = pd.read_csv(ROOT / 'train.csv')\n",
    "test = pd.read_csv(ROOT / 'test.csv')\n",
    "sub = pd.read_csv(ROOT / 'sample_submission.csv')"
   ]
  },
  {
   "cell_type": "code",
   "execution_count": 3,
   "metadata": {
    "execution": {
     "iopub.execute_input": "2020-10-05T12:23:52.431084Z",
     "iopub.status.busy": "2020-10-05T12:23:52.384694Z",
     "iopub.status.idle": "2020-10-05T12:23:52.715137Z",
     "shell.execute_reply": "2020-10-05T12:23:52.714377Z"
    },
    "papermill": {
     "duration": 0.35549,
     "end_time": "2020-10-05T12:23:52.715260",
     "exception": false,
     "start_time": "2020-10-05T12:23:52.359770",
     "status": "completed"
    },
    "tags": []
   },
   "outputs": [],
   "source": [
    "# create training data\n",
    "\n",
    "trainData = []\n",
    "for p in train['Patient'].unique():\n",
    "    patientData = train[train['Patient'] == p]\n",
    "    firstMeasure = list(patientData.iloc[0, :].values)\n",
    "    for i, week in enumerate(patientData['Weeks'].iloc[1:]):\n",
    "        fvc = patientData.iloc[i, 2]\n",
    "        trainDataPoint = firstMeasure + [week, fvc]\n",
    "        trainData.append(trainDataPoint)\n",
    "trainData = pd.DataFrame(trainData)\n",
    "\n",
    "trainData.columns = ['PatientID', 'first_week', 'first_FVC', 'first_Percent', 'Age', 'Sex', 'SmokingStatus'] + ['target_week', 'target_FVC']\n",
    "trainData['delta_week'] = trainData['target_week'] - trainData['first_week']\n",
    "trainData.drop(columns = ['first_Percent', 'target_week', 'first_week'], inplace = True)"
   ]
  },
  {
   "cell_type": "code",
   "execution_count": 4,
   "metadata": {
    "execution": {
     "iopub.execute_input": "2020-10-05T12:23:52.747748Z",
     "iopub.status.busy": "2020-10-05T12:23:52.746971Z",
     "iopub.status.idle": "2020-10-05T12:23:52.764432Z",
     "shell.execute_reply": "2020-10-05T12:23:52.764995Z"
    },
    "papermill": {
     "duration": 0.040873,
     "end_time": "2020-10-05T12:23:52.765163",
     "exception": false,
     "start_time": "2020-10-05T12:23:52.724290",
     "status": "completed"
    },
    "tags": []
   },
   "outputs": [],
   "source": [
    "# create testing data\n",
    "subSplit = np.array(list(sub['Patient_Week'].apply(lambda x: x.split('_')).values))\n",
    "testData = []\n",
    "for p in np.unique(subSplit[:, 0]):\n",
    "    patientData = test[test['Patient'] == p]\n",
    "    firstMeasure = list(patientData.iloc[0, :].values)\n",
    "    for week in subSplit[subSplit[:, 0] == p, 1]:\n",
    "        testDataPoint = firstMeasure + [week]\n",
    "        testData.append(testDataPoint)\n",
    "testData = pd.DataFrame(testData)\n",
    "testData.columns = ['PatientID', 'first_week', 'first_FVC', 'first_Percent', 'Age', 'Sex', 'SmokingStatus'] + ['target_week']\n",
    "\n",
    "testData['delta_week'] = testData['target_week'].map(int) - testData['first_week']\n",
    "testData.drop(columns = ['first_Percent', 'first_week'], inplace = True)"
   ]
  },
  {
   "cell_type": "code",
   "execution_count": 5,
   "metadata": {
    "execution": {
     "iopub.execute_input": "2020-10-05T12:23:52.795129Z",
     "iopub.status.busy": "2020-10-05T12:23:52.794375Z",
     "iopub.status.idle": "2020-10-05T12:23:52.797644Z",
     "shell.execute_reply": "2020-10-05T12:23:52.797039Z"
    },
    "papermill": {
     "duration": 0.023534,
     "end_time": "2020-10-05T12:23:52.797778",
     "exception": false,
     "start_time": "2020-10-05T12:23:52.774244",
     "status": "completed"
    },
    "tags": []
   },
   "outputs": [],
   "source": [
    "# fe engineering\n",
    "# trainData.drop(columns = ['PatientID'], inplace = True)\n",
    "# testData.drop(columns = ['PatientID'], inplace = True)\n",
    "\n",
    "trainData['Sex'] = le.fit_transform(trainData['Sex'])\n",
    "testData['Sex'] = le.transform(testData['Sex'])\n",
    "\n",
    "trainData['SmokingStatus'] = le.fit_transform(trainData['SmokingStatus'])\n",
    "testData['SmokingStatus'] = le.transform(testData['SmokingStatus'])"
   ]
  },
  {
   "cell_type": "code",
   "execution_count": 6,
   "metadata": {
    "execution": {
     "iopub.execute_input": "2020-10-05T12:23:52.823763Z",
     "iopub.status.busy": "2020-10-05T12:23:52.822949Z",
     "iopub.status.idle": "2020-10-05T12:23:53.066779Z",
     "shell.execute_reply": "2020-10-05T12:23:53.066038Z"
    },
    "papermill": {
     "duration": 0.259927,
     "end_time": "2020-10-05T12:23:53.066920",
     "exception": false,
     "start_time": "2020-10-05T12:23:52.806993",
     "status": "completed"
    },
    "tags": []
   },
   "outputs": [],
   "source": [
    "from sklearn.linear_model import LinearRegression\n",
    "from sklearn.neighbors import KNeighborsRegressor\n",
    "\n",
    "model = LinearRegression()\n",
    "model.fit(trainData.drop(columns = ['PatientID', 'target_FVC']), trainData['target_FVC'])\n",
    "prediction = model.predict(testData.drop(columns = ['PatientID', 'target_week']))"
   ]
  },
  {
   "cell_type": "code",
   "execution_count": 7,
   "metadata": {
    "execution": {
     "iopub.execute_input": "2020-10-05T12:23:53.122787Z",
     "iopub.status.busy": "2020-10-05T12:23:53.107111Z",
     "iopub.status.idle": "2020-10-05T12:23:53.129995Z",
     "shell.execute_reply": "2020-10-05T12:23:53.129169Z"
    },
    "papermill": {
     "duration": 0.053582,
     "end_time": "2020-10-05T12:23:53.130154",
     "exception": false,
     "start_time": "2020-10-05T12:23:53.076572",
     "status": "completed"
    },
    "tags": []
   },
   "outputs": [],
   "source": [
    "sub = []\n",
    "for i in range(testData.shape[0]):\n",
    "    patient, week, pred = testData.loc[i, 'PatientID'], testData.loc[i, 'target_week'], prediction[i]\n",
    "    confidence = 225\n",
    "    sub.append([patient + '_' + str(week), pred, confidence])\n",
    "sub = pd.DataFrame(sub)\n",
    "sub.columns = ['Patient_Week', 'FVC', 'Confidence']"
   ]
  },
  {
   "cell_type": "code",
   "execution_count": 8,
   "metadata": {
    "execution": {
     "iopub.execute_input": "2020-10-05T12:23:53.157395Z",
     "iopub.status.busy": "2020-10-05T12:23:53.156434Z",
     "iopub.status.idle": "2020-10-05T12:23:53.555078Z",
     "shell.execute_reply": "2020-10-05T12:23:53.554261Z"
    },
    "papermill": {
     "duration": 0.413318,
     "end_time": "2020-10-05T12:23:53.555215",
     "exception": false,
     "start_time": "2020-10-05T12:23:53.141897",
     "status": "completed"
    },
    "tags": []
   },
   "outputs": [],
   "source": [
    "sub.to_csv('submission.csv', index=False)"
   ]
  },
  {
   "cell_type": "code",
   "execution_count": null,
   "metadata": {
    "papermill": {
     "duration": 0.009311,
     "end_time": "2020-10-05T12:23:53.574285",
     "exception": false,
     "start_time": "2020-10-05T12:23:53.564974",
     "status": "completed"
    },
    "tags": []
   },
   "outputs": [],
   "source": []
  }
 ],
 "metadata": {
  "kernelspec": {
   "display_name": "Python 3",
   "language": "python",
   "name": "python3"
  },
  "language_info": {
   "codemirror_mode": {
    "name": "ipython",
    "version": 3
   },
   "file_extension": ".py",
   "mimetype": "text/x-python",
   "name": "python",
   "nbconvert_exporter": "python",
   "pygments_lexer": "ipython3",
   "version": "3.7.6"
  },
  "papermill": {
   "duration": 7.463196,
   "end_time": "2020-10-05T12:23:53.692046",
   "environment_variables": {},
   "exception": null,
   "input_path": "__notebook__.ipynb",
   "output_path": "__notebook__.ipynb",
   "parameters": {},
   "start_time": "2020-10-05T12:23:46.228850",
   "version": "2.1.0"
  }
 },
 "nbformat": 4,
 "nbformat_minor": 4
}
