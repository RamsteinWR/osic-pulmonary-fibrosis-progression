{
 "cells": [
  {
   "cell_type": "markdown",
   "metadata": {
    "papermill": {
     "duration": 0.045308,
     "end_time": "2020-10-05T09:02:17.066605",
     "exception": false,
     "start_time": "2020-10-05T09:02:17.021297",
     "status": "completed"
    },
    "tags": []
   },
   "source": [
    "# Imports"
   ]
  },
  {
   "cell_type": "code",
   "execution_count": 1,
   "metadata": {
    "_kg_hide-output": true,
    "execution": {
     "iopub.execute_input": "2020-10-05T09:02:17.151799Z",
     "iopub.status.busy": "2020-10-05T09:02:17.150974Z",
     "iopub.status.idle": "2020-10-05T09:02:35.085064Z",
     "shell.execute_reply": "2020-10-05T09:02:35.083972Z"
    },
    "papermill": {
     "duration": 17.973228,
     "end_time": "2020-10-05T09:02:35.085201",
     "exception": false,
     "start_time": "2020-10-05T09:02:17.111973",
     "status": "completed"
    },
    "tags": []
   },
   "outputs": [
    {
     "name": "stdout",
     "output_type": "stream",
     "text": [
      "Looking in links: ./\r\n",
      "Processing /kaggle/input/kerasapplications/keras-team-keras-applications-3b180cb\r\n",
      "Requirement already satisfied: numpy>=1.9.1 in /opt/conda/lib/python3.7/site-packages (from Keras-Applications==1.0.8) (1.18.5)\r\n",
      "Requirement already satisfied: h5py in /opt/conda/lib/python3.7/site-packages (from Keras-Applications==1.0.8) (2.10.0)\r\n",
      "Requirement already satisfied: six in /opt/conda/lib/python3.7/site-packages (from h5py->Keras-Applications==1.0.8) (1.14.0)\r\n",
      "Building wheels for collected packages: Keras-Applications\r\n",
      "  Building wheel for Keras-Applications (setup.py) ... \u001b[?25l-\b \b\\\b \b|\b \bdone\r\n",
      "\u001b[?25h  Created wheel for Keras-Applications: filename=Keras_Applications-1.0.8-py3-none-any.whl size=50704 sha256=eb52f40d2c2029861b51bb8858eff96f384a865e21addd19c57a4bafcc28794d\r\n",
      "  Stored in directory: /root/.cache/pip/wheels/f4/96/13/eccdd9391bd8df958d78851b98ec4dc207ba05b67b011eb70a\r\n",
      "Successfully built Keras-Applications\r\n",
      "Installing collected packages: Keras-Applications\r\n",
      "Successfully installed Keras-Applications-1.0.8\r\n",
      "Looking in links: ./\r\n",
      "Processing /kaggle/input/efficientnet/efficientnet-1.1.0\r\n",
      "Requirement already satisfied: keras_applications<=1.0.8,>=1.0.7 in /opt/conda/lib/python3.7/site-packages (from efficientnet==1.1.0) (1.0.8)\r\n",
      "Requirement already satisfied: scikit-image in /opt/conda/lib/python3.7/site-packages (from efficientnet==1.1.0) (0.16.2)\r\n",
      "Requirement already satisfied: h5py in /opt/conda/lib/python3.7/site-packages (from keras_applications<=1.0.8,>=1.0.7->efficientnet==1.1.0) (2.10.0)\r\n",
      "Requirement already satisfied: numpy>=1.9.1 in /opt/conda/lib/python3.7/site-packages (from keras_applications<=1.0.8,>=1.0.7->efficientnet==1.1.0) (1.18.5)\r\n",
      "Requirement already satisfied: scipy>=0.19.0 in /opt/conda/lib/python3.7/site-packages (from scikit-image->efficientnet==1.1.0) (1.4.1)\r\n",
      "Requirement already satisfied: matplotlib!=3.0.0,>=2.0.0 in /opt/conda/lib/python3.7/site-packages (from scikit-image->efficientnet==1.1.0) (3.2.1)\r\n",
      "Requirement already satisfied: networkx>=2.0 in /opt/conda/lib/python3.7/site-packages (from scikit-image->efficientnet==1.1.0) (2.4)\r\n",
      "Requirement already satisfied: pillow>=4.3.0 in /opt/conda/lib/python3.7/site-packages (from scikit-image->efficientnet==1.1.0) (7.2.0)\r\n",
      "Requirement already satisfied: imageio>=2.3.0 in /opt/conda/lib/python3.7/site-packages (from scikit-image->efficientnet==1.1.0) (2.8.0)\r\n",
      "Requirement already satisfied: PyWavelets>=0.4.0 in /opt/conda/lib/python3.7/site-packages (from scikit-image->efficientnet==1.1.0) (1.1.1)\r\n",
      "Requirement already satisfied: six in /opt/conda/lib/python3.7/site-packages (from h5py->keras_applications<=1.0.8,>=1.0.7->efficientnet==1.1.0) (1.14.0)\r\n",
      "Requirement already satisfied: cycler>=0.10 in /opt/conda/lib/python3.7/site-packages (from matplotlib!=3.0.0,>=2.0.0->scikit-image->efficientnet==1.1.0) (0.10.0)\r\n",
      "Requirement already satisfied: kiwisolver>=1.0.1 in /opt/conda/lib/python3.7/site-packages (from matplotlib!=3.0.0,>=2.0.0->scikit-image->efficientnet==1.1.0) (1.2.0)\r\n",
      "Requirement already satisfied: pyparsing!=2.0.4,!=2.1.2,!=2.1.6,>=2.0.1 in /opt/conda/lib/python3.7/site-packages (from matplotlib!=3.0.0,>=2.0.0->scikit-image->efficientnet==1.1.0) (2.4.7)\r\n",
      "Requirement already satisfied: python-dateutil>=2.1 in /opt/conda/lib/python3.7/site-packages (from matplotlib!=3.0.0,>=2.0.0->scikit-image->efficientnet==1.1.0) (2.8.1)\r\n",
      "Requirement already satisfied: decorator>=4.3.0 in /opt/conda/lib/python3.7/site-packages (from networkx>=2.0->scikit-image->efficientnet==1.1.0) (4.4.2)\r\n",
      "Building wheels for collected packages: efficientnet\r\n",
      "  Building wheel for efficientnet (setup.py) ... \u001b[?25l-\b \b\\\b \bdone\r\n",
      "\u001b[?25h  Created wheel for efficientnet: filename=efficientnet-1.1.0-py3-none-any.whl size=14141 sha256=8e595e4c423f4523eed3a875b4096d29947a6f6a2adf4575d0870f0a3c30e205\r\n",
      "  Stored in directory: /root/.cache/pip/wheels/24/f5/31/3cc20871288fe532128224a3f5af7b4d67efb9835bd5683522\r\n",
      "Successfully built efficientnet\r\n",
      "Installing collected packages: efficientnet\r\n",
      "Successfully installed efficientnet-1.1.0\r\n"
     ]
    }
   ],
   "source": [
    "!pip install ../input/kerasapplications/keras-team-keras-applications-3b180cb -f ./ --no-index\n",
    "!pip install ../input/efficientnet/efficientnet-1.1.0/ -f ./ --no-index"
   ]
  },
  {
   "cell_type": "code",
   "execution_count": 2,
   "metadata": {
    "_cell_guid": "79c7e3d0-c299-4dcb-8224-4455121ee9b0",
    "_uuid": "d629ff2d2480ee46fbb7e2d37f6b5fab8052498a",
    "execution": {
     "iopub.execute_input": "2020-10-05T09:02:35.177202Z",
     "iopub.status.busy": "2020-10-05T09:02:35.176215Z",
     "iopub.status.idle": "2020-10-05T09:02:41.410549Z",
     "shell.execute_reply": "2020-10-05T09:02:41.409905Z"
    },
    "papermill": {
     "duration": 6.283714,
     "end_time": "2020-10-05T09:02:41.410703",
     "exception": false,
     "start_time": "2020-10-05T09:02:35.126989",
     "status": "completed"
    },
    "tags": []
   },
   "outputs": [],
   "source": [
    "import os\n",
    "import cv2\n",
    "import pydicom\n",
    "import pandas as pd\n",
    "import numpy as np \n",
    "import tensorflow as tf \n",
    "import matplotlib.pyplot as plt \n",
    "import random\n",
    "from tqdm.notebook import tqdm \n",
    "from sklearn.model_selection import train_test_split, KFold\n",
    "from sklearn.metrics import mean_absolute_error\n",
    "from tensorflow_addons.optimizers import RectifiedAdam\n",
    "from tensorflow.keras import Model\n",
    "import tensorflow.keras.backend as K\n",
    "import tensorflow.keras.layers as L\n",
    "import tensorflow.keras.models as M\n",
    "from tensorflow.keras.optimizers import Nadam\n",
    "import seaborn as sns\n",
    "from PIL import Image\n",
    "\n",
    "def seed_everything(seed=2020):\n",
    "    random.seed(seed)\n",
    "    os.environ['PYTHONHASHSEED'] = str(seed)\n",
    "    np.random.seed(seed)\n",
    "    tf.random.set_seed(seed)\n",
    "    \n",
    "seed_everything(42)"
   ]
  },
  {
   "cell_type": "code",
   "execution_count": 3,
   "metadata": {
    "execution": {
     "iopub.execute_input": "2020-10-05T09:02:41.492318Z",
     "iopub.status.busy": "2020-10-05T09:02:41.491628Z",
     "iopub.status.idle": "2020-10-05T09:02:44.419043Z",
     "shell.execute_reply": "2020-10-05T09:02:44.418491Z"
    },
    "papermill": {
     "duration": 2.970052,
     "end_time": "2020-10-05T09:02:44.419163",
     "exception": false,
     "start_time": "2020-10-05T09:02:41.449111",
     "status": "completed"
    },
    "tags": []
   },
   "outputs": [],
   "source": [
    "config = tf.compat.v1.ConfigProto()\n",
    "config.gpu_options.allow_growth = True\n",
    "session = tf.compat.v1.Session(config=config)"
   ]
  },
  {
   "cell_type": "code",
   "execution_count": 4,
   "metadata": {
    "execution": {
     "iopub.execute_input": "2020-10-05T09:02:44.503733Z",
     "iopub.status.busy": "2020-10-05T09:02:44.502875Z",
     "iopub.status.idle": "2020-10-05T09:02:44.513556Z",
     "shell.execute_reply": "2020-10-05T09:02:44.514224Z"
    },
    "papermill": {
     "duration": 0.056481,
     "end_time": "2020-10-05T09:02:44.514363",
     "exception": false,
     "start_time": "2020-10-05T09:02:44.457882",
     "status": "completed"
    },
    "tags": []
   },
   "outputs": [],
   "source": [
    "train = pd.read_csv('../input/osic-pulmonary-fibrosis-progression/train.csv') "
   ]
  },
  {
   "cell_type": "markdown",
   "metadata": {
    "papermill": {
     "duration": 0.038625,
     "end_time": "2020-10-05T09:02:44.591792",
     "exception": false,
     "start_time": "2020-10-05T09:02:44.553167",
     "status": "completed"
    },
    "tags": []
   },
   "source": [
    "# Linear Decay (based on EfficientNets)"
   ]
  },
  {
   "cell_type": "code",
   "execution_count": 5,
   "metadata": {
    "execution": {
     "iopub.execute_input": "2020-10-05T09:02:44.679512Z",
     "iopub.status.busy": "2020-10-05T09:02:44.677685Z",
     "iopub.status.idle": "2020-10-05T09:02:44.680178Z",
     "shell.execute_reply": "2020-10-05T09:02:44.680652Z"
    },
    "papermill": {
     "duration": 0.050531,
     "end_time": "2020-10-05T09:02:44.680778",
     "exception": false,
     "start_time": "2020-10-05T09:02:44.630247",
     "status": "completed"
    },
    "tags": []
   },
   "outputs": [],
   "source": [
    "def get_tab(df):\n",
    "    vector = [(df.Age.values[0] - 30) / 30] \n",
    "    \n",
    "    if df.Sex.values[0] == 'male':\n",
    "       vector.append(0)\n",
    "    else:\n",
    "       vector.append(1)\n",
    "    \n",
    "    if df.SmokingStatus.values[0] == 'Never smoked':\n",
    "        vector.extend([0,0])\n",
    "    elif df.SmokingStatus.values[0] == 'Ex-smoker':\n",
    "        vector.extend([1,1])\n",
    "    elif df.SmokingStatus.values[0] == 'Currently smokes':\n",
    "        vector.extend([0,1])\n",
    "    else:\n",
    "        vector.extend([1,0])\n",
    "    return np.array(vector) "
   ]
  },
  {
   "cell_type": "code",
   "execution_count": 6,
   "metadata": {
    "execution": {
     "iopub.execute_input": "2020-10-05T09:02:44.770445Z",
     "iopub.status.busy": "2020-10-05T09:02:44.769873Z",
     "iopub.status.idle": "2020-10-05T09:02:45.142054Z",
     "shell.execute_reply": "2020-10-05T09:02:45.141188Z"
    },
    "papermill": {
     "duration": 0.422925,
     "end_time": "2020-10-05T09:02:45.142210",
     "exception": false,
     "start_time": "2020-10-05T09:02:44.719285",
     "status": "completed"
    },
    "tags": []
   },
   "outputs": [
    {
     "data": {
      "application/vnd.jupyter.widget-view+json": {
       "model_id": "f30423f9d7cf4780a01f51dde8ae36e3",
       "version_major": 2,
       "version_minor": 0
      },
      "text/plain": [
       "HBox(children=(FloatProgress(value=1.0, bar_style='info', max=1.0), HTML(value='')))"
      ]
     },
     "metadata": {},
     "output_type": "display_data"
    },
    {
     "name": "stderr",
     "output_type": "stream",
     "text": [
      "/opt/conda/lib/python3.7/site-packages/ipykernel_launcher.py:9: FutureWarning: `rcond` parameter will change to the default of machine precision times ``max(M, N)`` where M and N are the input matrix dimensions.\n",
      "To use the future default and silence this warning we advise to pass `rcond=None`, to keep using the old, explicitly pass `rcond=-1`.\n",
      "  if __name__ == '__main__':\n"
     ]
    },
    {
     "name": "stdout",
     "output_type": "stream",
     "text": [
      "\n"
     ]
    }
   ],
   "source": [
    "A = {} \n",
    "TAB = {} \n",
    "P = [] \n",
    "for i, p in tqdm(enumerate(train.Patient.unique())):\n",
    "    sub = train.loc[train.Patient == p, :] \n",
    "    fvc = sub.FVC.values\n",
    "    weeks = sub.Weeks.values\n",
    "    c = np.vstack([weeks, np.ones(len(weeks))]).T\n",
    "    a, b = np.linalg.lstsq(c, fvc)[0]\n",
    "    \n",
    "    A[p] = a\n",
    "    TAB[p] = get_tab(sub)\n",
    "    P.append(p)"
   ]
  },
  {
   "cell_type": "markdown",
   "metadata": {
    "papermill": {
     "duration": 0.041692,
     "end_time": "2020-10-05T09:02:45.238864",
     "exception": false,
     "start_time": "2020-10-05T09:02:45.197172",
     "status": "completed"
    },
    "tags": []
   },
   "source": [
    "## CNN for coeff prediction"
   ]
  },
  {
   "cell_type": "code",
   "execution_count": 7,
   "metadata": {
    "execution": {
     "iopub.execute_input": "2020-10-05T09:02:45.325087Z",
     "iopub.status.busy": "2020-10-05T09:02:45.324310Z",
     "iopub.status.idle": "2020-10-05T09:02:45.328316Z",
     "shell.execute_reply": "2020-10-05T09:02:45.327833Z"
    },
    "papermill": {
     "duration": 0.049175,
     "end_time": "2020-10-05T09:02:45.328416",
     "exception": false,
     "start_time": "2020-10-05T09:02:45.279241",
     "status": "completed"
    },
    "tags": []
   },
   "outputs": [],
   "source": [
    "def get_img(path):\n",
    "    d = pydicom.dcmread(path)\n",
    "    return cv2.resize(d.pixel_array / 2**11, (512, 512))"
   ]
  },
  {
   "cell_type": "code",
   "execution_count": 8,
   "metadata": {
    "execution": {
     "iopub.execute_input": "2020-10-05T09:02:45.423416Z",
     "iopub.status.busy": "2020-10-05T09:02:45.422727Z",
     "iopub.status.idle": "2020-10-05T09:02:45.426079Z",
     "shell.execute_reply": "2020-10-05T09:02:45.426606Z"
    },
    "papermill": {
     "duration": 0.058362,
     "end_time": "2020-10-05T09:02:45.426765",
     "exception": false,
     "start_time": "2020-10-05T09:02:45.368403",
     "status": "completed"
    },
    "tags": []
   },
   "outputs": [],
   "source": [
    "from tensorflow.keras.utils import Sequence\n",
    "\n",
    "class IGenerator(Sequence):\n",
    "    BAD_ID = ['ID00011637202177653955184', 'ID00052637202186188008618']\n",
    "    def __init__(self, keys, a, tab, batch_size=32):\n",
    "        self.keys = [k for k in keys if k not in self.BAD_ID]\n",
    "        self.a = a\n",
    "        self.tab = tab\n",
    "        self.batch_size = batch_size\n",
    "        \n",
    "        self.train_data = {}\n",
    "        for p in train.Patient.values:\n",
    "            self.train_data[p] = os.listdir(f'../input/osic-pulmonary-fibrosis-progression/train/{p}/')\n",
    "    \n",
    "    def __len__(self):\n",
    "        return 1000\n",
    "    \n",
    "    def __getitem__(self, idx):\n",
    "        x = []\n",
    "        a, tab = [], [] \n",
    "        keys = np.random.choice(self.keys, size = self.batch_size)\n",
    "        for k in keys:\n",
    "            try:\n",
    "                i = np.random.choice(self.train_data[k], size=1)[0]\n",
    "                img = get_img(f'../input/osic-pulmonary-fibrosis-progression/train/{k}/{i}')\n",
    "                x.append(img)\n",
    "                a.append(self.a[k])\n",
    "                tab.append(self.tab[k])\n",
    "            except:\n",
    "                print(k, i)\n",
    "       \n",
    "        x,a,tab = np.array(x), np.array(a), np.array(tab)\n",
    "        x = np.expand_dims(x, axis=-1)\n",
    "        return [x, tab] , a"
   ]
  },
  {
   "cell_type": "code",
   "execution_count": 9,
   "metadata": {
    "execution": {
     "iopub.execute_input": "2020-10-05T09:02:45.527243Z",
     "iopub.status.busy": "2020-10-05T09:02:45.521989Z",
     "iopub.status.idle": "2020-10-05T09:03:41.144478Z",
     "shell.execute_reply": "2020-10-05T09:03:41.145102Z"
    },
    "papermill": {
     "duration": 55.671746,
     "end_time": "2020-10-05T09:03:41.145253",
     "exception": false,
     "start_time": "2020-10-05T09:02:45.473507",
     "status": "completed"
    },
    "tags": []
   },
   "outputs": [
    {
     "name": "stdout",
     "output_type": "stream",
     "text": [
      "Number of models: 1\n"
     ]
    }
   ],
   "source": [
    "from tensorflow.keras.layers import (\n",
    "    Dense, Dropout, Activation, Flatten, Input, BatchNormalization, GlobalAveragePooling2D, Add, Conv2D, AveragePooling2D, \n",
    "    LeakyReLU, Concatenate \n",
    ")\n",
    "import efficientnet.tfkeras as efn\n",
    "\n",
    "def get_efficientnet(model, shape):\n",
    "    models_dict = {\n",
    "        'b0': efn.EfficientNetB0(input_shape=shape,weights=None,include_top=False),\n",
    "        'b1': efn.EfficientNetB1(input_shape=shape,weights=None,include_top=False),\n",
    "        'b2': efn.EfficientNetB2(input_shape=shape,weights=None,include_top=False),\n",
    "        'b3': efn.EfficientNetB3(input_shape=shape,weights=None,include_top=False),\n",
    "        'b4': efn.EfficientNetB4(input_shape=shape,weights=None,include_top=False),\n",
    "        'b5': efn.EfficientNetB5(input_shape=shape,weights=None,include_top=False),\n",
    "        'b6': efn.EfficientNetB6(input_shape=shape,weights=None,include_top=False),\n",
    "        'b7': efn.EfficientNetB7(input_shape=shape,weights=None,include_top=False)\n",
    "    }\n",
    "    return models_dict[model]\n",
    "\n",
    "def build_model(shape=(512, 512, 1), model_class=None):\n",
    "    inp = Input(shape=shape)\n",
    "    base = get_efficientnet(model_class, shape)\n",
    "    x = base(inp)\n",
    "    x = GlobalAveragePooling2D()(x)\n",
    "    inp2 = Input(shape=(4,))\n",
    "    x2 = tf.keras.layers.GaussianNoise(0.2)(inp2)\n",
    "    x = Concatenate()([x, x2]) \n",
    "    x = Dropout(0.5)(x) \n",
    "    x = Dense(1)(x)\n",
    "    model = Model([inp, inp2] , x)\n",
    "    \n",
    "    weights = [w for w in os.listdir('../input/osic-model-weights') if model_class in w][0]\n",
    "#     model.load_weights('../input/osic-model-weights/' + weights)\n",
    "    model.load_weights('../input/effnet-b5-30epochs-1/effnet_30.h5')\n",
    "    return model\n",
    "\n",
    "model_classes = ['b5'] #['b0','b1','b2','b3',b4','b5','b6','b7']\n",
    "models = [build_model(shape=(512, 512, 1), model_class=m) for m in model_classes]\n",
    "print('Number of models: ' + str(len(models)))"
   ]
  },
  {
   "cell_type": "code",
   "execution_count": 10,
   "metadata": {
    "execution": {
     "iopub.execute_input": "2020-10-05T09:03:41.232814Z",
     "iopub.status.busy": "2020-10-05T09:03:41.231923Z",
     "iopub.status.idle": "2020-10-05T09:03:41.234172Z",
     "shell.execute_reply": "2020-10-05T09:03:41.234637Z"
    },
    "papermill": {
     "duration": 0.0489,
     "end_time": "2020-10-05T09:03:41.234770",
     "exception": false,
     "start_time": "2020-10-05T09:03:41.185870",
     "status": "completed"
    },
    "tags": []
   },
   "outputs": [],
   "source": [
    "from sklearn.model_selection import train_test_split \n",
    "\n",
    "tr_p, vl_p = train_test_split(P, \n",
    "                              shuffle=True, \n",
    "                              train_size= 1) "
   ]
  },
  {
   "cell_type": "code",
   "execution_count": 11,
   "metadata": {
    "execution": {
     "iopub.execute_input": "2020-10-05T09:03:41.320375Z",
     "iopub.status.busy": "2020-10-05T09:03:41.319770Z",
     "iopub.status.idle": "2020-10-05T09:03:41.507834Z",
     "shell.execute_reply": "2020-10-05T09:03:41.508365Z"
    },
    "papermill": {
     "duration": 0.233191,
     "end_time": "2020-10-05T09:03:41.508496",
     "exception": false,
     "start_time": "2020-10-05T09:03:41.275305",
     "status": "completed"
    },
    "tags": []
   },
   "outputs": [
    {
     "data": {
      "image/png": "[encoded data removed]",
      "text/plain": [
       "<Figure size 432x288 with 1 Axes>"
      ]
     },
     "metadata": {
      "needs_background": "light"
     },
     "output_type": "display_data"
    }
   ],
   "source": [
    "sns.distplot(list(A.values()));"
   ]
  },
  {
   "cell_type": "code",
   "execution_count": 12,
   "metadata": {
    "execution": {
     "iopub.execute_input": "2020-10-05T09:03:41.601132Z",
     "iopub.status.busy": "2020-10-05T09:03:41.600409Z",
     "iopub.status.idle": "2020-10-05T09:03:41.604055Z",
     "shell.execute_reply": "2020-10-05T09:03:41.603560Z"
    },
    "papermill": {
     "duration": 0.050863,
     "end_time": "2020-10-05T09:03:41.604153",
     "exception": false,
     "start_time": "2020-10-05T09:03:41.553290",
     "status": "completed"
    },
    "tags": []
   },
   "outputs": [],
   "source": [
    "def score(fvc_true, fvc_pred, sigma):\n",
    "    sigma_clip = np.maximum(sigma, 70) # changed from 70, trie 66.7 too\n",
    "    delta = np.abs(fvc_true - fvc_pred)\n",
    "    delta = np.minimum(delta, 1000)\n",
    "    sq2 = np.sqrt(2)\n",
    "    metric = (delta / sigma_clip)*sq2 + np.log(sigma_clip* sq2)\n",
    "    return np.mean(metric)"
   ]
  },
  {
   "cell_type": "code",
   "execution_count": 13,
   "metadata": {
    "execution": {
     "iopub.execute_input": "2020-10-05T09:03:41.707784Z",
     "iopub.status.busy": "2020-10-05T09:03:41.707072Z",
     "iopub.status.idle": "2020-10-05T09:04:25.837165Z",
     "shell.execute_reply": "2020-10-05T09:04:25.836620Z"
    },
    "papermill": {
     "duration": 44.190109,
     "end_time": "2020-10-05T09:04:25.837283",
     "exception": false,
     "start_time": "2020-10-05T09:03:41.647174",
     "status": "completed"
    },
    "tags": []
   },
   "outputs": [],
   "source": [
    "subs = []\n",
    "for model in models:\n",
    "\n",
    "    q = 0.5\n",
    "\n",
    "    sub = pd.read_csv('../input/osic-pulmonary-fibrosis-progression/sample_submission.csv') \n",
    "    test = pd.read_csv('../input/osic-pulmonary-fibrosis-progression/test.csv') \n",
    "    A_test, B_test, P_test,W, FVC= {}, {}, {},{},{} \n",
    "    STD, WEEK = {}, {} \n",
    "    for p in test.Patient.unique():\n",
    "        x = [] \n",
    "        tab = [] \n",
    "        ldir = os.listdir(f'../input/osic-pulmonary-fibrosis-progression/test/{p}/')\n",
    "        for i in ldir:\n",
    "            if int(i[:-4]) / len(ldir) < 1.1 and int(i[:-4]) / len(ldir) > -0.1:\n",
    "                x.append(get_img(f'../input/osic-pulmonary-fibrosis-progression/test/{p}/{i}')) \n",
    "                tab.append(get_tab(test.loc[test.Patient == p, :])) \n",
    "        if len(x) <= 1:\n",
    "            continue\n",
    "        tab = np.array(tab) \n",
    "\n",
    "        x = np.expand_dims(x, axis=-1) \n",
    "        _a = model.predict([x, tab]) \n",
    "        a = np.quantile(_a, q)\n",
    "        A_test[p] = a\n",
    "        B_test[p] = test.FVC.values[test.Patient == p] - a*test.Weeks.values[test.Patient == p]\n",
    "        P_test[p] = test.Percent.values[test.Patient == p] \n",
    "        WEEK[p] = test.Weeks.values[test.Patient == p]\n",
    "\n",
    "    for k in sub.Patient_Week.values:\n",
    "        p, w = k.split('_')\n",
    "        w = int(w) \n",
    "\n",
    "        fvc = A_test[p] * w + B_test[p]\n",
    "        sub.loc[sub.Patient_Week == k, 'FVC'] = fvc\n",
    "        sub.loc[sub.Patient_Week == k, 'Confidence'] = (\n",
    "            P_test[p] - A_test[p] * abs(WEEK[p] - w) \n",
    "    ) \n",
    "\n",
    "    _sub = sub[[\"Patient_Week\",\"FVC\",\"Confidence\"]].copy()\n",
    "    subs.append(_sub)"
   ]
  },
  {
   "cell_type": "markdown",
   "metadata": {
    "papermill": {
     "duration": 0.041647,
     "end_time": "2020-10-05T09:04:25.921062",
     "exception": false,
     "start_time": "2020-10-05T09:04:25.879415",
     "status": "completed"
    },
    "tags": []
   },
   "source": [
    "## Averaging Predictions"
   ]
  },
  {
   "cell_type": "code",
   "execution_count": 14,
   "metadata": {
    "execution": {
     "iopub.execute_input": "2020-10-05T09:04:26.012723Z",
     "iopub.status.busy": "2020-10-05T09:04:26.011917Z",
     "iopub.status.idle": "2020-10-05T09:04:26.032006Z",
     "shell.execute_reply": "2020-10-05T09:04:26.031484Z"
    },
    "papermill": {
     "duration": 0.069391,
     "end_time": "2020-10-05T09:04:26.032114",
     "exception": false,
     "start_time": "2020-10-05T09:04:25.962723",
     "status": "completed"
    },
    "tags": []
   },
   "outputs": [],
   "source": [
    "N = len(subs)\n",
    "sub = subs[0].copy() # ref\n",
    "sub[\"FVC\"] = 0\n",
    "sub[\"Confidence\"] = 0\n",
    "for i in range(N):\n",
    "    sub[\"FVC\"] += subs[0][\"FVC\"] * (1/N)\n",
    "    sub[\"Confidence\"] += subs[0][\"Confidence\"] * (1/N)"
   ]
  },
  {
   "cell_type": "code",
   "execution_count": 15,
   "metadata": {
    "execution": {
     "iopub.execute_input": "2020-10-05T09:04:26.123341Z",
     "iopub.status.busy": "2020-10-05T09:04:26.122702Z",
     "iopub.status.idle": "2020-10-05T09:04:26.132073Z",
     "shell.execute_reply": "2020-10-05T09:04:26.131603Z"
    },
    "papermill": {
     "duration": 0.058087,
     "end_time": "2020-10-05T09:04:26.132165",
     "exception": false,
     "start_time": "2020-10-05T09:04:26.074078",
     "status": "completed"
    },
    "tags": []
   },
   "outputs": [
    {
     "data": {
      "text/html": [
       "<div>\n",
       "<style scoped>\n",
       "    .dataframe tbody tr th:only-of-type {\n",
       "        vertical-align: middle;\n",
       "    }\n",
       "\n",
       "    .dataframe tbody tr th {\n",
       "        vertical-align: top;\n",
       "    }\n",
       "\n",
       "    .dataframe thead th {\n",
       "        text-align: right;\n",
       "    }\n",
       "</style>\n",
       "<table border=\"1\" class=\"dataframe\">\n",
       "  <thead>\n",
       "    <tr style=\"text-align: right;\">\n",
       "      <th></th>\n",
       "      <th>Patient_Week</th>\n",
       "      <th>FVC</th>\n",
       "      <th>Confidence</th>\n",
       "    </tr>\n",
       "  </thead>\n",
       "  <tbody>\n",
       "    <tr>\n",
       "      <th>0</th>\n",
       "      <td>ID00419637202311204720264_-12</td>\n",
       "      <td>3089.912209</td>\n",
       "      <td>140.099064</td>\n",
       "    </tr>\n",
       "    <tr>\n",
       "      <th>1</th>\n",
       "      <td>ID00421637202311550012437_-12</td>\n",
       "      <td>2843.369867</td>\n",
       "      <td>186.415158</td>\n",
       "    </tr>\n",
       "    <tr>\n",
       "      <th>2</th>\n",
       "      <td>ID00422637202311677017371_-12</td>\n",
       "      <td>1999.601912</td>\n",
       "      <td>146.274405</td>\n",
       "    </tr>\n",
       "    <tr>\n",
       "      <th>3</th>\n",
       "      <td>ID00423637202312137826377_-12</td>\n",
       "      <td>3405.996907</td>\n",
       "      <td>191.255810</td>\n",
       "    </tr>\n",
       "    <tr>\n",
       "      <th>4</th>\n",
       "      <td>ID00426637202313170790466_-12</td>\n",
       "      <td>2967.838420</td>\n",
       "      <td>114.663388</td>\n",
       "    </tr>\n",
       "  </tbody>\n",
       "</table>\n",
       "</div>"
      ],
      "text/plain": [
       "                    Patient_Week          FVC  Confidence\n",
       "0  ID00419637202311204720264_-12  3089.912209  140.099064\n",
       "1  ID00421637202311550012437_-12  2843.369867  186.415158\n",
       "2  ID00422637202311677017371_-12  1999.601912  146.274405\n",
       "3  ID00423637202312137826377_-12  3405.996907  191.255810\n",
       "4  ID00426637202313170790466_-12  2967.838420  114.663388"
      ]
     },
     "execution_count": 15,
     "metadata": {},
     "output_type": "execute_result"
    }
   ],
   "source": [
    "sub.head()"
   ]
  },
  {
   "cell_type": "code",
   "execution_count": 16,
   "metadata": {
    "execution": {
     "iopub.execute_input": "2020-10-05T09:04:26.225603Z",
     "iopub.status.busy": "2020-10-05T09:04:26.224982Z",
     "iopub.status.idle": "2020-10-05T09:04:26.318096Z",
     "shell.execute_reply": "2020-10-05T09:04:26.317144Z"
    },
    "papermill": {
     "duration": 0.141316,
     "end_time": "2020-10-05T09:04:26.318208",
     "exception": false,
     "start_time": "2020-10-05T09:04:26.176892",
     "status": "completed"
    },
    "tags": []
   },
   "outputs": [],
   "source": [
    "sub[[\"Patient_Week\",\"FVC\",\"Confidence\"]].to_csv(\"submission_img.csv\", index=False)"
   ]
  },
  {
   "cell_type": "code",
   "execution_count": 17,
   "metadata": {
    "execution": {
     "iopub.execute_input": "2020-10-05T09:04:26.410304Z",
     "iopub.status.busy": "2020-10-05T09:04:26.409511Z",
     "iopub.status.idle": "2020-10-05T09:04:26.411851Z",
     "shell.execute_reply": "2020-10-05T09:04:26.412413Z"
    },
    "papermill": {
     "duration": 0.05105,
     "end_time": "2020-10-05T09:04:26.412526",
     "exception": false,
     "start_time": "2020-10-05T09:04:26.361476",
     "status": "completed"
    },
    "tags": []
   },
   "outputs": [],
   "source": [
    "img_sub = sub[[\"Patient_Week\",\"FVC\",\"Confidence\"]].copy()"
   ]
  },
  {
   "cell_type": "markdown",
   "metadata": {
    "papermill": {
     "duration": 0.042567,
     "end_time": "2020-10-05T09:04:26.497975",
     "exception": false,
     "start_time": "2020-10-05T09:04:26.455408",
     "status": "completed"
    },
    "tags": []
   },
   "source": [
    "# Osic-Multiple-Quantile-Regression"
   ]
  },
  {
   "cell_type": "code",
   "execution_count": 18,
   "metadata": {
    "execution": {
     "iopub.execute_input": "2020-10-05T09:04:26.594894Z",
     "iopub.status.busy": "2020-10-05T09:04:26.594085Z",
     "iopub.status.idle": "2020-10-05T09:04:26.630770Z",
     "shell.execute_reply": "2020-10-05T09:04:26.631250Z"
    },
    "papermill": {
     "duration": 0.090334,
     "end_time": "2020-10-05T09:04:26.631360",
     "exception": false,
     "start_time": "2020-10-05T09:04:26.541026",
     "status": "completed"
    },
    "tags": []
   },
   "outputs": [
    {
     "name": "stdout",
     "output_type": "stream",
     "text": [
      "add infos\n"
     ]
    }
   ],
   "source": [
    "ROOT = \"../input/osic-pulmonary-fibrosis-progression\"\n",
    "BATCH_SIZE=128\n",
    "\n",
    "tr = pd.read_csv(f\"{ROOT}/train.csv\")\n",
    "tr.drop_duplicates(keep=False, inplace=True, subset=['Patient','Weeks'])\n",
    "chunk = pd.read_csv(f\"{ROOT}/test.csv\")\n",
    "\n",
    "print(\"add infos\")\n",
    "sub = pd.read_csv(f\"{ROOT}/sample_submission.csv\")\n",
    "sub['Patient'] = sub['Patient_Week'].apply(lambda x:x.split('_')[0])\n",
    "sub['Weeks'] = sub['Patient_Week'].apply(lambda x: int(x.split('_')[-1]))\n",
    "sub =  sub[['Patient','Weeks','Confidence','Patient_Week']]\n",
    "sub = sub.merge(chunk.drop('Weeks', axis=1), on=\"Patient\")"
   ]
  },
  {
   "cell_type": "code",
   "execution_count": 19,
   "metadata": {
    "execution": {
     "iopub.execute_input": "2020-10-05T09:04:26.732054Z",
     "iopub.status.busy": "2020-10-05T09:04:26.731249Z",
     "iopub.status.idle": "2020-10-05T09:04:26.734099Z",
     "shell.execute_reply": "2020-10-05T09:04:26.734589Z"
    },
    "papermill": {
     "duration": 0.059864,
     "end_time": "2020-10-05T09:04:26.734703",
     "exception": false,
     "start_time": "2020-10-05T09:04:26.674839",
     "status": "completed"
    },
    "tags": []
   },
   "outputs": [],
   "source": [
    "tr['WHERE'] = 'train'\n",
    "chunk['WHERE'] = 'val'\n",
    "sub['WHERE'] = 'test'\n",
    "data = tr.append([chunk, sub])"
   ]
  },
  {
   "cell_type": "code",
   "execution_count": 20,
   "metadata": {
    "execution": {
     "iopub.execute_input": "2020-10-05T09:04:26.828284Z",
     "iopub.status.busy": "2020-10-05T09:04:26.827430Z",
     "iopub.status.idle": "2020-10-05T09:04:26.833477Z",
     "shell.execute_reply": "2020-10-05T09:04:26.833923Z"
    },
    "papermill": {
     "duration": 0.055205,
     "end_time": "2020-10-05T09:04:26.834037",
     "exception": false,
     "start_time": "2020-10-05T09:04:26.778832",
     "status": "completed"
    },
    "tags": []
   },
   "outputs": [
    {
     "name": "stdout",
     "output_type": "stream",
     "text": [
      "(1535, 8) (5, 8) (730, 10) (2270, 10)\n",
      "176 5 5 176\n"
     ]
    }
   ],
   "source": [
    "print(tr.shape, chunk.shape, sub.shape, data.shape)\n",
    "print(tr.Patient.nunique(), chunk.Patient.nunique(), sub.Patient.nunique(), \n",
    "      data.Patient.nunique())\n",
    "#"
   ]
  },
  {
   "cell_type": "code",
   "execution_count": 21,
   "metadata": {
    "execution": {
     "iopub.execute_input": "2020-10-05T09:04:26.929964Z",
     "iopub.status.busy": "2020-10-05T09:04:26.929130Z",
     "iopub.status.idle": "2020-10-05T09:04:26.940627Z",
     "shell.execute_reply": "2020-10-05T09:04:26.940119Z"
    },
    "papermill": {
     "duration": 0.062825,
     "end_time": "2020-10-05T09:04:26.940721",
     "exception": false,
     "start_time": "2020-10-05T09:04:26.877896",
     "status": "completed"
    },
    "tags": []
   },
   "outputs": [],
   "source": [
    "data['min_week'] = data['Weeks']\n",
    "data.loc[data.WHERE=='test','min_week'] = np.nan\n",
    "data['min_week'] = data.groupby('Patient')['min_week'].transform('min')"
   ]
  },
  {
   "cell_type": "code",
   "execution_count": 22,
   "metadata": {
    "execution": {
     "iopub.execute_input": "2020-10-05T09:04:27.044644Z",
     "iopub.status.busy": "2020-10-05T09:04:27.043876Z",
     "iopub.status.idle": "2020-10-05T09:04:27.046933Z",
     "shell.execute_reply": "2020-10-05T09:04:27.046416Z"
    },
    "papermill": {
     "duration": 0.062012,
     "end_time": "2020-10-05T09:04:27.047028",
     "exception": false,
     "start_time": "2020-10-05T09:04:26.985016",
     "status": "completed"
    },
    "tags": []
   },
   "outputs": [],
   "source": [
    "base = data.loc[data.Weeks == data.min_week]\n",
    "base = base[['Patient','FVC']].copy()\n",
    "base.columns = ['Patient','min_FVC']\n",
    "base['nb'] = 1\n",
    "base['nb'] = base.groupby('Patient')['nb'].transform('cumsum')\n",
    "base = base[base.nb==1]\n",
    "base.drop('nb', axis=1, inplace=True)"
   ]
  },
  {
   "cell_type": "code",
   "execution_count": 23,
   "metadata": {
    "execution": {
     "iopub.execute_input": "2020-10-05T09:04:27.143987Z",
     "iopub.status.busy": "2020-10-05T09:04:27.143130Z",
     "iopub.status.idle": "2020-10-05T09:04:27.152004Z",
     "shell.execute_reply": "2020-10-05T09:04:27.151508Z"
    },
    "papermill": {
     "duration": 0.060986,
     "end_time": "2020-10-05T09:04:27.152098",
     "exception": false,
     "start_time": "2020-10-05T09:04:27.091112",
     "status": "completed"
    },
    "tags": []
   },
   "outputs": [],
   "source": [
    "data = data.merge(base, on='Patient', how='left')\n",
    "data['base_week'] = data['Weeks'] - data['min_week']\n",
    "del base"
   ]
  },
  {
   "cell_type": "code",
   "execution_count": 24,
   "metadata": {
    "execution": {
     "iopub.execute_input": "2020-10-05T09:04:27.250246Z",
     "iopub.status.busy": "2020-10-05T09:04:27.249367Z",
     "iopub.status.idle": "2020-10-05T09:04:27.256648Z",
     "shell.execute_reply": "2020-10-05T09:04:27.256166Z"
    },
    "papermill": {
     "duration": 0.059698,
     "end_time": "2020-10-05T09:04:27.256743",
     "exception": false,
     "start_time": "2020-10-05T09:04:27.197045",
     "status": "completed"
    },
    "tags": []
   },
   "outputs": [],
   "source": [
    "COLS = ['Sex','SmokingStatus'] #,'Age'\n",
    "FE = []\n",
    "for col in COLS:\n",
    "    for mod in data[col].unique():\n",
    "        FE.append(mod)\n",
    "        data[mod] = (data[col] == mod).astype(int)"
   ]
  },
  {
   "cell_type": "code",
   "execution_count": 25,
   "metadata": {
    "execution": {
     "iopub.execute_input": "2020-10-05T09:04:27.358079Z",
     "iopub.status.busy": "2020-10-05T09:04:27.357262Z",
     "iopub.status.idle": "2020-10-05T09:04:27.360070Z",
     "shell.execute_reply": "2020-10-05T09:04:27.359560Z"
    },
    "papermill": {
     "duration": 0.058536,
     "end_time": "2020-10-05T09:04:27.360168",
     "exception": false,
     "start_time": "2020-10-05T09:04:27.301632",
     "status": "completed"
    },
    "tags": []
   },
   "outputs": [],
   "source": [
    "#\n",
    "data['age'] = (data['Age'] - data['Age'].min() ) / ( data['Age'].max() - data['Age'].min() )\n",
    "data['BASE'] = (data['min_FVC'] - data['min_FVC'].min() ) / ( data['min_FVC'].max() - data['min_FVC'].min() )\n",
    "data['week'] = (data['base_week'] - data['base_week'].min() ) / ( data['base_week'].max() - data['base_week'].min() )\n",
    "#data['percent'] = (data['Percent'] - data['Percent'].min() ) / ( data['Percent'].max() - data['Percent'].min() )\n",
    "FE += ['age','week','BASE']"
   ]
  },
  {
   "cell_type": "code",
   "execution_count": 26,
   "metadata": {
    "execution": {
     "iopub.execute_input": "2020-10-05T09:04:27.457101Z",
     "iopub.status.busy": "2020-10-05T09:04:27.456211Z",
     "iopub.status.idle": "2020-10-05T09:04:27.463453Z",
     "shell.execute_reply": "2020-10-05T09:04:27.462971Z"
    },
    "papermill": {
     "duration": 0.058703,
     "end_time": "2020-10-05T09:04:27.463553",
     "exception": false,
     "start_time": "2020-10-05T09:04:27.404850",
     "status": "completed"
    },
    "tags": []
   },
   "outputs": [],
   "source": [
    "tr = data.loc[data.WHERE=='train']\n",
    "chunk = data.loc[data.WHERE=='val']\n",
    "sub = data.loc[data.WHERE=='test']\n",
    "del data"
   ]
  },
  {
   "cell_type": "code",
   "execution_count": 27,
   "metadata": {
    "execution": {
     "iopub.execute_input": "2020-10-05T09:04:27.558320Z",
     "iopub.status.busy": "2020-10-05T09:04:27.557490Z",
     "iopub.status.idle": "2020-10-05T09:04:27.561353Z",
     "shell.execute_reply": "2020-10-05T09:04:27.560819Z"
    },
    "papermill": {
     "duration": 0.053164,
     "end_time": "2020-10-05T09:04:27.561454",
     "exception": false,
     "start_time": "2020-10-05T09:04:27.508290",
     "status": "completed"
    },
    "tags": []
   },
   "outputs": [
    {
     "data": {
      "text/plain": [
       "((1535, 21), (5, 21), (730, 21))"
      ]
     },
     "execution_count": 27,
     "metadata": {},
     "output_type": "execute_result"
    }
   ],
   "source": [
    "tr.shape, chunk.shape, sub.shape"
   ]
  },
  {
   "cell_type": "code",
   "execution_count": 28,
   "metadata": {
    "execution": {
     "iopub.execute_input": "2020-10-05T09:04:27.672021Z",
     "iopub.status.busy": "2020-10-05T09:04:27.664694Z",
     "iopub.status.idle": "2020-10-05T09:04:27.674846Z",
     "shell.execute_reply": "2020-10-05T09:04:27.674335Z"
    },
    "papermill": {
     "duration": 0.06829,
     "end_time": "2020-10-05T09:04:27.674937",
     "exception": false,
     "start_time": "2020-10-05T09:04:27.606647",
     "status": "completed"
    },
    "tags": []
   },
   "outputs": [],
   "source": [
    "C1, C2 = tf.constant(70, dtype='float32'), tf.constant(1000, dtype=\"float32\")\n",
    "\n",
    "def score(y_true, y_pred):\n",
    "    tf.dtypes.cast(y_true, tf.float32)\n",
    "    tf.dtypes.cast(y_pred, tf.float32)\n",
    "    sigma = y_pred[:, 2] - y_pred[:, 0]\n",
    "    fvc_pred = y_pred[:, 1]\n",
    "    \n",
    "    #sigma_clip = sigma + C1\n",
    "    sigma_clip = tf.maximum(sigma, C1)\n",
    "    delta = tf.abs(y_true[:, 0] - fvc_pred)\n",
    "    delta = tf.minimum(delta, C2)\n",
    "    sq2 = tf.sqrt( tf.dtypes.cast(2, dtype=tf.float32) )\n",
    "    metric = (delta / sigma_clip)*sq2 + tf.math.log(sigma_clip* sq2)\n",
    "    return K.mean(metric)\n",
    "\n",
    "def qloss(y_true, y_pred):\n",
    "    # Pinball loss for multiple quantiles\n",
    "    qs = [0.2, 0.50, 0.8]\n",
    "    q = tf.constant(np.array([qs]), dtype=tf.float32)\n",
    "    e = y_true - y_pred\n",
    "    v = tf.maximum(q*e, (q-1)*e)\n",
    "    return K.mean(v)\n",
    "\n",
    "def mloss(_lambda):\n",
    "    def loss(y_true, y_pred):\n",
    "        return _lambda * qloss(y_true, y_pred) + (1 - _lambda)*score(y_true, y_pred)\n",
    "    return loss\n",
    "\n",
    "def make_model(nh):\n",
    "    z = L.Input((nh,), name=\"Patient\")\n",
    "    x = L.Dense(100, activation=\"relu\", name=\"d1\")(z)\n",
    "    x = L.Dense(100, activation=\"relu\", name=\"d2\")(x)\n",
    "    #x = L.Dense(100, activation=\"relu\", name=\"d3\")(x)\n",
    "    p1 = L.Dense(3, activation=\"linear\", name=\"p1\")(x)\n",
    "    p2 = L.Dense(3, activation=\"relu\", name=\"p2\")(x)\n",
    "    preds = L.Lambda(lambda x: x[0] + tf.cumsum(x[1], axis=1), \n",
    "                     name=\"preds\")([p1, p2])\n",
    "    \n",
    "    model = M.Model(z, preds, name=\"CNN\")\n",
    "    #model.compile(loss=qloss, optimizer=\"adam\", metrics=[score])\n",
    "    model.compile(loss=mloss(0.8), optimizer=tf.keras.optimizers.Adam(lr=0.1, beta_1=0.9, beta_2=0.999, epsilon=None, decay=0.01, amsgrad=False), metrics=[score])\n",
    "    return model"
   ]
  },
  {
   "cell_type": "code",
   "execution_count": 29,
   "metadata": {
    "execution": {
     "iopub.execute_input": "2020-10-05T09:04:27.777357Z",
     "iopub.status.busy": "2020-10-05T09:04:27.776419Z",
     "iopub.status.idle": "2020-10-05T09:04:27.778805Z",
     "shell.execute_reply": "2020-10-05T09:04:27.779292Z"
    },
    "papermill": {
     "duration": 0.058762,
     "end_time": "2020-10-05T09:04:27.779417",
     "exception": false,
     "start_time": "2020-10-05T09:04:27.720655",
     "status": "completed"
    },
    "tags": []
   },
   "outputs": [],
   "source": [
    "y = tr['FVC'].values\n",
    "z = tr[FE].values\n",
    "ze = sub[FE].values\n",
    "nh = z.shape[1]\n",
    "pe = np.zeros((ze.shape[0], 3))\n",
    "pred = np.zeros((z.shape[0], 3))"
   ]
  },
  {
   "cell_type": "code",
   "execution_count": 30,
   "metadata": {
    "execution": {
     "iopub.execute_input": "2020-10-05T09:04:27.877350Z",
     "iopub.status.busy": "2020-10-05T09:04:27.876491Z",
     "iopub.status.idle": "2020-10-05T09:04:27.956928Z",
     "shell.execute_reply": "2020-10-05T09:04:27.956106Z"
    },
    "papermill": {
     "duration": 0.131912,
     "end_time": "2020-10-05T09:04:27.957045",
     "exception": false,
     "start_time": "2020-10-05T09:04:27.825133",
     "status": "completed"
    },
    "tags": []
   },
   "outputs": [
    {
     "name": "stdout",
     "output_type": "stream",
     "text": [
      "Model: \"CNN\"\n",
      "__________________________________________________________________________________________________\n",
      "Layer (type)                    Output Shape         Param #     Connected to                     \n",
      "==================================================================================================\n",
      "Patient (InputLayer)            [(None, 8)]          0                                            \n",
      "__________________________________________________________________________________________________\n",
      "d1 (Dense)                      (None, 100)          900         Patient[0][0]                    \n",
      "__________________________________________________________________________________________________\n",
      "d2 (Dense)                      (None, 100)          10100       d1[0][0]                         \n",
      "__________________________________________________________________________________________________\n",
      "p1 (Dense)                      (None, 3)            303         d2[0][0]                         \n",
      "__________________________________________________________________________________________________\n",
      "p2 (Dense)                      (None, 3)            303         d2[0][0]                         \n",
      "__________________________________________________________________________________________________\n",
      "preds (Lambda)                  (None, 3)            0           p1[0][0]                         \n",
      "                                                                 p2[0][0]                         \n",
      "==================================================================================================\n",
      "Total params: 11,606\n",
      "Trainable params: 11,606\n",
      "Non-trainable params: 0\n",
      "__________________________________________________________________________________________________\n",
      "None\n",
      "11606\n"
     ]
    }
   ],
   "source": [
    "net = make_model(nh)\n",
    "print(net.summary())\n",
    "print(net.count_params())"
   ]
  },
  {
   "cell_type": "code",
   "execution_count": 31,
   "metadata": {
    "execution": {
     "iopub.execute_input": "2020-10-05T09:04:28.055428Z",
     "iopub.status.busy": "2020-10-05T09:04:28.054683Z",
     "iopub.status.idle": "2020-10-05T09:04:28.057776Z",
     "shell.execute_reply": "2020-10-05T09:04:28.057183Z"
    },
    "papermill": {
     "duration": 0.054006,
     "end_time": "2020-10-05T09:04:28.057873",
     "exception": false,
     "start_time": "2020-10-05T09:04:28.003867",
     "status": "completed"
    },
    "tags": []
   },
   "outputs": [],
   "source": [
    "NFOLD = 2 # originally 5\n",
    "kf = KFold(n_splits=NFOLD)"
   ]
  },
  {
   "cell_type": "code",
   "execution_count": 32,
   "metadata": {
    "execution": {
     "iopub.execute_input": "2020-10-05T09:04:28.160715Z",
     "iopub.status.busy": "2020-10-05T09:04:28.159798Z",
     "iopub.status.idle": "2020-10-05T09:05:25.385796Z",
     "shell.execute_reply": "2020-10-05T09:05:25.386648Z"
    },
    "papermill": {
     "duration": 57.282521,
     "end_time": "2020-10-05T09:05:25.386855",
     "exception": false,
     "start_time": "2020-10-05T09:04:28.104334",
     "status": "completed"
    },
    "tags": []
   },
   "outputs": [
    {
     "name": "stdout",
     "output_type": "stream",
     "text": [
      "FOLD 1\n",
      "train [45.55668258666992, 6.585787296295166]\n",
      "val [57.895904541015625, 6.83064603805542]\n",
      "predict val...\n",
      "predict test...\n",
      "FOLD 2\n",
      "train [49.8366813659668, 6.653332233428955]\n",
      "val [50.33049392700195, 6.696572780609131]\n",
      "predict val...\n",
      "predict test...\n",
      "CPU times: user 1min 1s, sys: 3.56 s, total: 1min 5s\n",
      "Wall time: 57.2 s\n"
     ]
    }
   ],
   "source": [
    "%%time\n",
    "cnt = 0\n",
    "EPOCHS = 600\n",
    "for tr_idx, val_idx in kf.split(z):\n",
    "    cnt += 1\n",
    "    print(f\"FOLD {cnt}\")\n",
    "    net = make_model(nh)\n",
    "    net.fit(z[tr_idx], y[tr_idx], batch_size=BATCH_SIZE, epochs=EPOCHS, \n",
    "            validation_data=(z[val_idx], y[val_idx]), verbose=0) #\n",
    "    print(\"train\", net.evaluate(z[tr_idx], y[tr_idx], verbose=0, batch_size=BATCH_SIZE))\n",
    "    print(\"val\", net.evaluate(z[val_idx], y[val_idx], verbose=0, batch_size=BATCH_SIZE))\n",
    "    print(\"predict val...\")\n",
    "    pred[val_idx] = net.predict(z[val_idx], batch_size=BATCH_SIZE, verbose=0)\n",
    "    print(\"predict test...\")\n",
    "    pe += net.predict(ze, batch_size=BATCH_SIZE, verbose=0) / NFOLD"
   ]
  },
  {
   "cell_type": "code",
   "execution_count": 33,
   "metadata": {
    "execution": {
     "iopub.execute_input": "2020-10-05T09:05:25.490113Z",
     "iopub.status.busy": "2020-10-05T09:05:25.489309Z",
     "iopub.status.idle": "2020-10-05T09:05:25.492946Z",
     "shell.execute_reply": "2020-10-05T09:05:25.493432Z"
    },
    "papermill": {
     "duration": 0.057826,
     "end_time": "2020-10-05T09:05:25.493544",
     "exception": false,
     "start_time": "2020-10-05T09:05:25.435718",
     "status": "completed"
    },
    "tags": []
   },
   "outputs": [
    {
     "name": "stdout",
     "output_type": "stream",
     "text": [
      "156.29871337095378 260.86731060413274\n"
     ]
    }
   ],
   "source": [
    "sigma_opt = mean_absolute_error(y, pred[:, 1])\n",
    "unc = pred[:,2] - pred[:, 0]\n",
    "sigma_mean = np.mean(unc)\n",
    "print(sigma_opt, sigma_mean)"
   ]
  },
  {
   "cell_type": "code",
   "execution_count": 34,
   "metadata": {
    "execution": {
     "iopub.execute_input": "2020-10-05T09:05:25.605603Z",
     "iopub.status.busy": "2020-10-05T09:05:25.599658Z",
     "iopub.status.idle": "2020-10-05T09:05:25.789798Z",
     "shell.execute_reply": "2020-10-05T09:05:25.789284Z"
    },
    "papermill": {
     "duration": 0.24657,
     "end_time": "2020-10-05T09:05:25.789903",
     "exception": false,
     "start_time": "2020-10-05T09:05:25.543333",
     "status": "completed"
    },
    "tags": []
   },
   "outputs": [
    {
     "data": {
      "image/png": "[encoded data removed]",
      "text/plain": [
       "<Figure size 432x288 with 1 Axes>"
      ]
     },
     "metadata": {
      "needs_background": "light"
     },
     "output_type": "display_data"
    }
   ],
   "source": [
    "idxs = np.random.randint(0, y.shape[0], 100)\n",
    "plt.plot(y[idxs], label=\"ground truth\")\n",
    "plt.plot(pred[idxs, 0], label=\"q25\")\n",
    "plt.plot(pred[idxs, 1], label=\"q50\")\n",
    "plt.plot(pred[idxs, 2], label=\"q75\")\n",
    "plt.legend(loc=\"best\")\n",
    "plt.show()"
   ]
  },
  {
   "cell_type": "code",
   "execution_count": 35,
   "metadata": {
    "execution": {
     "iopub.execute_input": "2020-10-05T09:05:25.897149Z",
     "iopub.status.busy": "2020-10-05T09:05:25.895304Z",
     "iopub.status.idle": "2020-10-05T09:05:25.900144Z",
     "shell.execute_reply": "2020-10-05T09:05:25.899440Z"
    },
    "papermill": {
     "duration": 0.060561,
     "end_time": "2020-10-05T09:05:25.900266",
     "exception": false,
     "start_time": "2020-10-05T09:05:25.839705",
     "status": "completed"
    },
    "tags": []
   },
   "outputs": [
    {
     "name": "stdout",
     "output_type": "stream",
     "text": [
      "77.932861328125 260.86731060413274 453.388671875 1.0\n"
     ]
    }
   ],
   "source": [
    "print(unc.min(), unc.mean(), unc.max(), (unc>=0).mean())"
   ]
  },
  {
   "cell_type": "code",
   "execution_count": 36,
   "metadata": {
    "execution": {
     "iopub.execute_input": "2020-10-05T09:05:26.014854Z",
     "iopub.status.busy": "2020-10-05T09:05:26.012723Z",
     "iopub.status.idle": "2020-10-05T09:05:26.177835Z",
     "shell.execute_reply": "2020-10-05T09:05:26.177336Z"
    },
    "papermill": {
     "duration": 0.225937,
     "end_time": "2020-10-05T09:05:26.177936",
     "exception": false,
     "start_time": "2020-10-05T09:05:25.951999",
     "status": "completed"
    },
    "tags": []
   },
   "outputs": [
    {
     "data": {
      "image/png": "[encoded data removed]",
      "text/plain": [
       "<Figure size 432x288 with 1 Axes>"
      ]
     },
     "metadata": {
      "needs_background": "light"
     },
     "output_type": "display_data"
    }
   ],
   "source": [
    "plt.hist(unc)\n",
    "plt.title(\"uncertainty in prediction\")\n",
    "plt.show()"
   ]
  },
  {
   "cell_type": "code",
   "execution_count": 37,
   "metadata": {
    "execution": {
     "iopub.execute_input": "2020-10-05T09:05:26.303619Z",
     "iopub.status.busy": "2020-10-05T09:05:26.291722Z",
     "iopub.status.idle": "2020-10-05T09:05:26.316703Z",
     "shell.execute_reply": "2020-10-05T09:05:26.317190Z"
    },
    "papermill": {
     "duration": 0.086982,
     "end_time": "2020-10-05T09:05:26.317302",
     "exception": false,
     "start_time": "2020-10-05T09:05:26.230320",
     "status": "completed"
    },
    "tags": []
   },
   "outputs": [
    {
     "data": {
      "text/html": [
       "<div>\n",
       "<style scoped>\n",
       "    .dataframe tbody tr th:only-of-type {\n",
       "        vertical-align: middle;\n",
       "    }\n",
       "\n",
       "    .dataframe tbody tr th {\n",
       "        vertical-align: top;\n",
       "    }\n",
       "\n",
       "    .dataframe thead th {\n",
       "        text-align: right;\n",
       "    }\n",
       "</style>\n",
       "<table border=\"1\" class=\"dataframe\">\n",
       "  <thead>\n",
       "    <tr style=\"text-align: right;\">\n",
       "      <th></th>\n",
       "      <th>Patient</th>\n",
       "      <th>Weeks</th>\n",
       "      <th>FVC</th>\n",
       "      <th>Percent</th>\n",
       "      <th>Age</th>\n",
       "      <th>Sex</th>\n",
       "      <th>SmokingStatus</th>\n",
       "      <th>WHERE</th>\n",
       "      <th>Confidence</th>\n",
       "      <th>Patient_Week</th>\n",
       "      <th>...</th>\n",
       "      <th>min_FVC</th>\n",
       "      <th>base_week</th>\n",
       "      <th>Male</th>\n",
       "      <th>Female</th>\n",
       "      <th>Ex-smoker</th>\n",
       "      <th>Never smoked</th>\n",
       "      <th>Currently smokes</th>\n",
       "      <th>age</th>\n",
       "      <th>BASE</th>\n",
       "      <th>week</th>\n",
       "    </tr>\n",
       "  </thead>\n",
       "  <tbody>\n",
       "    <tr>\n",
       "      <th>1540</th>\n",
       "      <td>ID00419637202311204720264</td>\n",
       "      <td>-12</td>\n",
       "      <td>3020</td>\n",
       "      <td>70.186855</td>\n",
       "      <td>73</td>\n",
       "      <td>Male</td>\n",
       "      <td>Ex-smoker</td>\n",
       "      <td>test</td>\n",
       "      <td>100.0</td>\n",
       "      <td>ID00419637202311204720264_-12</td>\n",
       "      <td>...</td>\n",
       "      <td>3020</td>\n",
       "      <td>-18.0</td>\n",
       "      <td>1</td>\n",
       "      <td>0</td>\n",
       "      <td>1</td>\n",
       "      <td>0</td>\n",
       "      <td>0</td>\n",
       "      <td>0.615385</td>\n",
       "      <td>0.3724</td>\n",
       "      <td>0.067901</td>\n",
       "    </tr>\n",
       "    <tr>\n",
       "      <th>1541</th>\n",
       "      <td>ID00419637202311204720264</td>\n",
       "      <td>-11</td>\n",
       "      <td>3020</td>\n",
       "      <td>70.186855</td>\n",
       "      <td>73</td>\n",
       "      <td>Male</td>\n",
       "      <td>Ex-smoker</td>\n",
       "      <td>test</td>\n",
       "      <td>100.0</td>\n",
       "      <td>ID00419637202311204720264_-11</td>\n",
       "      <td>...</td>\n",
       "      <td>3020</td>\n",
       "      <td>-17.0</td>\n",
       "      <td>1</td>\n",
       "      <td>0</td>\n",
       "      <td>1</td>\n",
       "      <td>0</td>\n",
       "      <td>0</td>\n",
       "      <td>0.615385</td>\n",
       "      <td>0.3724</td>\n",
       "      <td>0.074074</td>\n",
       "    </tr>\n",
       "    <tr>\n",
       "      <th>1542</th>\n",
       "      <td>ID00419637202311204720264</td>\n",
       "      <td>-10</td>\n",
       "      <td>3020</td>\n",
       "      <td>70.186855</td>\n",
       "      <td>73</td>\n",
       "      <td>Male</td>\n",
       "      <td>Ex-smoker</td>\n",
       "      <td>test</td>\n",
       "      <td>100.0</td>\n",
       "      <td>ID00419637202311204720264_-10</td>\n",
       "      <td>...</td>\n",
       "      <td>3020</td>\n",
       "      <td>-16.0</td>\n",
       "      <td>1</td>\n",
       "      <td>0</td>\n",
       "      <td>1</td>\n",
       "      <td>0</td>\n",
       "      <td>0</td>\n",
       "      <td>0.615385</td>\n",
       "      <td>0.3724</td>\n",
       "      <td>0.080247</td>\n",
       "    </tr>\n",
       "    <tr>\n",
       "      <th>1543</th>\n",
       "      <td>ID00419637202311204720264</td>\n",
       "      <td>-9</td>\n",
       "      <td>3020</td>\n",
       "      <td>70.186855</td>\n",
       "      <td>73</td>\n",
       "      <td>Male</td>\n",
       "      <td>Ex-smoker</td>\n",
       "      <td>test</td>\n",
       "      <td>100.0</td>\n",
       "      <td>ID00419637202311204720264_-9</td>\n",
       "      <td>...</td>\n",
       "      <td>3020</td>\n",
       "      <td>-15.0</td>\n",
       "      <td>1</td>\n",
       "      <td>0</td>\n",
       "      <td>1</td>\n",
       "      <td>0</td>\n",
       "      <td>0</td>\n",
       "      <td>0.615385</td>\n",
       "      <td>0.3724</td>\n",
       "      <td>0.086420</td>\n",
       "    </tr>\n",
       "    <tr>\n",
       "      <th>1544</th>\n",
       "      <td>ID00419637202311204720264</td>\n",
       "      <td>-8</td>\n",
       "      <td>3020</td>\n",
       "      <td>70.186855</td>\n",
       "      <td>73</td>\n",
       "      <td>Male</td>\n",
       "      <td>Ex-smoker</td>\n",
       "      <td>test</td>\n",
       "      <td>100.0</td>\n",
       "      <td>ID00419637202311204720264_-8</td>\n",
       "      <td>...</td>\n",
       "      <td>3020</td>\n",
       "      <td>-14.0</td>\n",
       "      <td>1</td>\n",
       "      <td>0</td>\n",
       "      <td>1</td>\n",
       "      <td>0</td>\n",
       "      <td>0</td>\n",
       "      <td>0.615385</td>\n",
       "      <td>0.3724</td>\n",
       "      <td>0.092593</td>\n",
       "    </tr>\n",
       "  </tbody>\n",
       "</table>\n",
       "<p>5 rows × 21 columns</p>\n",
       "</div>"
      ],
      "text/plain": [
       "                        Patient  Weeks   FVC    Percent  Age   Sex  \\\n",
       "1540  ID00419637202311204720264    -12  3020  70.186855   73  Male   \n",
       "1541  ID00419637202311204720264    -11  3020  70.186855   73  Male   \n",
       "1542  ID00419637202311204720264    -10  3020  70.186855   73  Male   \n",
       "1543  ID00419637202311204720264     -9  3020  70.186855   73  Male   \n",
       "1544  ID00419637202311204720264     -8  3020  70.186855   73  Male   \n",
       "\n",
       "     SmokingStatus WHERE  Confidence                   Patient_Week  ...  \\\n",
       "1540     Ex-smoker  test       100.0  ID00419637202311204720264_-12  ...   \n",
       "1541     Ex-smoker  test       100.0  ID00419637202311204720264_-11  ...   \n",
       "1542     Ex-smoker  test       100.0  ID00419637202311204720264_-10  ...   \n",
       "1543     Ex-smoker  test       100.0   ID00419637202311204720264_-9  ...   \n",
       "1544     Ex-smoker  test       100.0   ID00419637202311204720264_-8  ...   \n",
       "\n",
       "      min_FVC  base_week  Male  Female  Ex-smoker  Never smoked  \\\n",
       "1540     3020      -18.0     1       0          1             0   \n",
       "1541     3020      -17.0     1       0          1             0   \n",
       "1542     3020      -16.0     1       0          1             0   \n",
       "1543     3020      -15.0     1       0          1             0   \n",
       "1544     3020      -14.0     1       0          1             0   \n",
       "\n",
       "      Currently smokes       age    BASE      week  \n",
       "1540                 0  0.615385  0.3724  0.067901  \n",
       "1541                 0  0.615385  0.3724  0.074074  \n",
       "1542                 0  0.615385  0.3724  0.080247  \n",
       "1543                 0  0.615385  0.3724  0.086420  \n",
       "1544                 0  0.615385  0.3724  0.092593  \n",
       "\n",
       "[5 rows x 21 columns]"
      ]
     },
     "execution_count": 37,
     "metadata": {},
     "output_type": "execute_result"
    }
   ],
   "source": [
    "sub.head()"
   ]
  },
  {
   "cell_type": "code",
   "execution_count": 38,
   "metadata": {
    "execution": {
     "iopub.execute_input": "2020-10-05T09:05:26.434984Z",
     "iopub.status.busy": "2020-10-05T09:05:26.433750Z",
     "iopub.status.idle": "2020-10-05T09:05:26.449190Z",
     "shell.execute_reply": "2020-10-05T09:05:26.448719Z"
    },
    "papermill": {
     "duration": 0.078273,
     "end_time": "2020-10-05T09:05:26.449311",
     "exception": false,
     "start_time": "2020-10-05T09:05:26.371038",
     "status": "completed"
    },
    "tags": []
   },
   "outputs": [
    {
     "data": {
      "text/html": [
       "<div>\n",
       "<style scoped>\n",
       "    .dataframe tbody tr th:only-of-type {\n",
       "        vertical-align: middle;\n",
       "    }\n",
       "\n",
       "    .dataframe tbody tr th {\n",
       "        vertical-align: top;\n",
       "    }\n",
       "\n",
       "    .dataframe thead th {\n",
       "        text-align: right;\n",
       "    }\n",
       "</style>\n",
       "<table border=\"1\" class=\"dataframe\">\n",
       "  <thead>\n",
       "    <tr style=\"text-align: right;\">\n",
       "      <th></th>\n",
       "      <th>Patient_Week</th>\n",
       "      <th>FVC</th>\n",
       "      <th>Confidence</th>\n",
       "      <th>FVC1</th>\n",
       "      <th>Confidence1</th>\n",
       "    </tr>\n",
       "  </thead>\n",
       "  <tbody>\n",
       "    <tr>\n",
       "      <th>1540</th>\n",
       "      <td>ID00419637202311204720264_-12</td>\n",
       "      <td>3020</td>\n",
       "      <td>100.0</td>\n",
       "      <td>3041.346558</td>\n",
       "      <td>222.091309</td>\n",
       "    </tr>\n",
       "    <tr>\n",
       "      <th>1541</th>\n",
       "      <td>ID00419637202311204720264_-11</td>\n",
       "      <td>3020</td>\n",
       "      <td>100.0</td>\n",
       "      <td>3037.395996</td>\n",
       "      <td>224.152710</td>\n",
       "    </tr>\n",
       "    <tr>\n",
       "      <th>1542</th>\n",
       "      <td>ID00419637202311204720264_-10</td>\n",
       "      <td>3020</td>\n",
       "      <td>100.0</td>\n",
       "      <td>3033.445312</td>\n",
       "      <td>226.214111</td>\n",
       "    </tr>\n",
       "    <tr>\n",
       "      <th>1543</th>\n",
       "      <td>ID00419637202311204720264_-9</td>\n",
       "      <td>3020</td>\n",
       "      <td>100.0</td>\n",
       "      <td>3029.494751</td>\n",
       "      <td>228.275513</td>\n",
       "    </tr>\n",
       "    <tr>\n",
       "      <th>1544</th>\n",
       "      <td>ID00419637202311204720264_-8</td>\n",
       "      <td>3020</td>\n",
       "      <td>100.0</td>\n",
       "      <td>3025.544189</td>\n",
       "      <td>230.336670</td>\n",
       "    </tr>\n",
       "    <tr>\n",
       "      <th>1545</th>\n",
       "      <td>ID00419637202311204720264_-7</td>\n",
       "      <td>3020</td>\n",
       "      <td>100.0</td>\n",
       "      <td>3021.593384</td>\n",
       "      <td>232.398193</td>\n",
       "    </tr>\n",
       "    <tr>\n",
       "      <th>1546</th>\n",
       "      <td>ID00419637202311204720264_-6</td>\n",
       "      <td>3020</td>\n",
       "      <td>100.0</td>\n",
       "      <td>3017.642822</td>\n",
       "      <td>234.459473</td>\n",
       "    </tr>\n",
       "    <tr>\n",
       "      <th>1547</th>\n",
       "      <td>ID00419637202311204720264_-5</td>\n",
       "      <td>3020</td>\n",
       "      <td>100.0</td>\n",
       "      <td>3013.692383</td>\n",
       "      <td>236.520996</td>\n",
       "    </tr>\n",
       "    <tr>\n",
       "      <th>1548</th>\n",
       "      <td>ID00419637202311204720264_-4</td>\n",
       "      <td>3020</td>\n",
       "      <td>100.0</td>\n",
       "      <td>3009.741699</td>\n",
       "      <td>238.582153</td>\n",
       "    </tr>\n",
       "    <tr>\n",
       "      <th>1549</th>\n",
       "      <td>ID00419637202311204720264_-3</td>\n",
       "      <td>3020</td>\n",
       "      <td>100.0</td>\n",
       "      <td>3005.791260</td>\n",
       "      <td>240.643677</td>\n",
       "    </tr>\n",
       "  </tbody>\n",
       "</table>\n",
       "</div>"
      ],
      "text/plain": [
       "                       Patient_Week   FVC  Confidence         FVC1  \\\n",
       "1540  ID00419637202311204720264_-12  3020       100.0  3041.346558   \n",
       "1541  ID00419637202311204720264_-11  3020       100.0  3037.395996   \n",
       "1542  ID00419637202311204720264_-10  3020       100.0  3033.445312   \n",
       "1543   ID00419637202311204720264_-9  3020       100.0  3029.494751   \n",
       "1544   ID00419637202311204720264_-8  3020       100.0  3025.544189   \n",
       "1545   ID00419637202311204720264_-7  3020       100.0  3021.593384   \n",
       "1546   ID00419637202311204720264_-6  3020       100.0  3017.642822   \n",
       "1547   ID00419637202311204720264_-5  3020       100.0  3013.692383   \n",
       "1548   ID00419637202311204720264_-4  3020       100.0  3009.741699   \n",
       "1549   ID00419637202311204720264_-3  3020       100.0  3005.791260   \n",
       "\n",
       "      Confidence1  \n",
       "1540   222.091309  \n",
       "1541   224.152710  \n",
       "1542   226.214111  \n",
       "1543   228.275513  \n",
       "1544   230.336670  \n",
       "1545   232.398193  \n",
       "1546   234.459473  \n",
       "1547   236.520996  \n",
       "1548   238.582153  \n",
       "1549   240.643677  "
      ]
     },
     "execution_count": 38,
     "metadata": {},
     "output_type": "execute_result"
    }
   ],
   "source": [
    "# PREDICTION\n",
    "sub['FVC1'] = 1.*pe[:, 1]\n",
    "sub['Confidence1'] = pe[:, 2] - pe[:, 0]\n",
    "subm = sub[['Patient_Week','FVC','Confidence','FVC1','Confidence1']].copy()\n",
    "subm.loc[~subm.FVC1.isnull()].head(10)"
   ]
  },
  {
   "cell_type": "code",
   "execution_count": 39,
   "metadata": {
    "execution": {
     "iopub.execute_input": "2020-10-05T09:05:26.568502Z",
     "iopub.status.busy": "2020-10-05T09:05:26.567657Z",
     "iopub.status.idle": "2020-10-05T09:05:26.574331Z",
     "shell.execute_reply": "2020-10-05T09:05:26.573860Z"
    },
    "papermill": {
     "duration": 0.070024,
     "end_time": "2020-10-05T09:05:26.574425",
     "exception": false,
     "start_time": "2020-10-05T09:05:26.504401",
     "status": "completed"
    },
    "tags": []
   },
   "outputs": [],
   "source": [
    "subm.loc[~subm.FVC1.isnull(),'FVC'] = subm.loc[~subm.FVC1.isnull(),'FVC1']\n",
    "sigma_mean = 60\n",
    "if sigma_mean<sigma_mean:\n",
    "    subm['Confidence'] = sigma_opt\n",
    "else:\n",
    "    subm.loc[~subm.FVC1.isnull(),'Confidence'] = subm.loc[~subm.FVC1.isnull(),'Confidence1']"
   ]
  },
  {
   "cell_type": "code",
   "execution_count": 40,
   "metadata": {
    "execution": {
     "iopub.execute_input": "2020-10-05T09:05:26.707801Z",
     "iopub.status.busy": "2020-10-05T09:05:26.707119Z",
     "iopub.status.idle": "2020-10-05T09:05:26.712510Z",
     "shell.execute_reply": "2020-10-05T09:05:26.713010Z"
    },
    "papermill": {
     "duration": 0.082014,
     "end_time": "2020-10-05T09:05:26.713141",
     "exception": false,
     "start_time": "2020-10-05T09:05:26.631127",
     "status": "completed"
    },
    "tags": []
   },
   "outputs": [
    {
     "data": {
      "text/html": [
       "<div>\n",
       "<style scoped>\n",
       "    .dataframe tbody tr th:only-of-type {\n",
       "        vertical-align: middle;\n",
       "    }\n",
       "\n",
       "    .dataframe tbody tr th {\n",
       "        vertical-align: top;\n",
       "    }\n",
       "\n",
       "    .dataframe thead th {\n",
       "        text-align: right;\n",
       "    }\n",
       "</style>\n",
       "<table border=\"1\" class=\"dataframe\">\n",
       "  <thead>\n",
       "    <tr style=\"text-align: right;\">\n",
       "      <th></th>\n",
       "      <th>Patient_Week</th>\n",
       "      <th>FVC</th>\n",
       "      <th>Confidence</th>\n",
       "      <th>FVC1</th>\n",
       "      <th>Confidence1</th>\n",
       "    </tr>\n",
       "  </thead>\n",
       "  <tbody>\n",
       "    <tr>\n",
       "      <th>1540</th>\n",
       "      <td>ID00419637202311204720264_-12</td>\n",
       "      <td>3041.346558</td>\n",
       "      <td>222.091309</td>\n",
       "      <td>3041.346558</td>\n",
       "      <td>222.091309</td>\n",
       "    </tr>\n",
       "    <tr>\n",
       "      <th>1541</th>\n",
       "      <td>ID00419637202311204720264_-11</td>\n",
       "      <td>3037.395996</td>\n",
       "      <td>224.152710</td>\n",
       "      <td>3037.395996</td>\n",
       "      <td>224.152710</td>\n",
       "    </tr>\n",
       "    <tr>\n",
       "      <th>1542</th>\n",
       "      <td>ID00419637202311204720264_-10</td>\n",
       "      <td>3033.445312</td>\n",
       "      <td>226.214111</td>\n",
       "      <td>3033.445312</td>\n",
       "      <td>226.214111</td>\n",
       "    </tr>\n",
       "    <tr>\n",
       "      <th>1543</th>\n",
       "      <td>ID00419637202311204720264_-9</td>\n",
       "      <td>3029.494751</td>\n",
       "      <td>228.275513</td>\n",
       "      <td>3029.494751</td>\n",
       "      <td>228.275513</td>\n",
       "    </tr>\n",
       "    <tr>\n",
       "      <th>1544</th>\n",
       "      <td>ID00419637202311204720264_-8</td>\n",
       "      <td>3025.544189</td>\n",
       "      <td>230.336670</td>\n",
       "      <td>3025.544189</td>\n",
       "      <td>230.336670</td>\n",
       "    </tr>\n",
       "  </tbody>\n",
       "</table>\n",
       "</div>"
      ],
      "text/plain": [
       "                       Patient_Week          FVC  Confidence         FVC1  \\\n",
       "1540  ID00419637202311204720264_-12  3041.346558  222.091309  3041.346558   \n",
       "1541  ID00419637202311204720264_-11  3037.395996  224.152710  3037.395996   \n",
       "1542  ID00419637202311204720264_-10  3033.445312  226.214111  3033.445312   \n",
       "1543   ID00419637202311204720264_-9  3029.494751  228.275513  3029.494751   \n",
       "1544   ID00419637202311204720264_-8  3025.544189  230.336670  3025.544189   \n",
       "\n",
       "      Confidence1  \n",
       "1540   222.091309  \n",
       "1541   224.152710  \n",
       "1542   226.214111  \n",
       "1543   228.275513  \n",
       "1544   230.336670  "
      ]
     },
     "execution_count": 40,
     "metadata": {},
     "output_type": "execute_result"
    }
   ],
   "source": [
    "subm.head()"
   ]
  },
  {
   "cell_type": "code",
   "execution_count": 41,
   "metadata": {
    "execution": {
     "iopub.execute_input": "2020-10-05T09:05:26.834992Z",
     "iopub.status.busy": "2020-10-05T09:05:26.834274Z",
     "iopub.status.idle": "2020-10-05T09:05:26.857156Z",
     "shell.execute_reply": "2020-10-05T09:05:26.857656Z"
    },
    "papermill": {
     "duration": 0.086668,
     "end_time": "2020-10-05T09:05:26.857775",
     "exception": false,
     "start_time": "2020-10-05T09:05:26.771107",
     "status": "completed"
    },
    "tags": []
   },
   "outputs": [
    {
     "data": {
      "text/html": [
       "<div>\n",
       "<style scoped>\n",
       "    .dataframe tbody tr th:only-of-type {\n",
       "        vertical-align: middle;\n",
       "    }\n",
       "\n",
       "    .dataframe tbody tr th {\n",
       "        vertical-align: top;\n",
       "    }\n",
       "\n",
       "    .dataframe thead th {\n",
       "        text-align: right;\n",
       "    }\n",
       "</style>\n",
       "<table border=\"1\" class=\"dataframe\">\n",
       "  <thead>\n",
       "    <tr style=\"text-align: right;\">\n",
       "      <th></th>\n",
       "      <th>count</th>\n",
       "      <th>mean</th>\n",
       "      <th>std</th>\n",
       "      <th>min</th>\n",
       "      <th>25%</th>\n",
       "      <th>50%</th>\n",
       "      <th>75%</th>\n",
       "      <th>max</th>\n",
       "    </tr>\n",
       "  </thead>\n",
       "  <tbody>\n",
       "    <tr>\n",
       "      <th>FVC</th>\n",
       "      <td>730.0</td>\n",
       "      <td>2579.475721</td>\n",
       "      <td>434.097646</td>\n",
       "      <td>1671.213196</td>\n",
       "      <td>2423.714966</td>\n",
       "      <td>2649.175171</td>\n",
       "      <td>2871.450012</td>\n",
       "      <td>3359.120605</td>\n",
       "    </tr>\n",
       "    <tr>\n",
       "      <th>Confidence</th>\n",
       "      <td>730.0</td>\n",
       "      <td>319.177701</td>\n",
       "      <td>57.769768</td>\n",
       "      <td>193.531860</td>\n",
       "      <td>278.825699</td>\n",
       "      <td>315.067993</td>\n",
       "      <td>371.083679</td>\n",
       "      <td>417.567139</td>\n",
       "    </tr>\n",
       "    <tr>\n",
       "      <th>FVC1</th>\n",
       "      <td>730.0</td>\n",
       "      <td>2579.475721</td>\n",
       "      <td>434.097646</td>\n",
       "      <td>1671.213196</td>\n",
       "      <td>2423.714966</td>\n",
       "      <td>2649.175171</td>\n",
       "      <td>2871.450012</td>\n",
       "      <td>3359.120605</td>\n",
       "    </tr>\n",
       "    <tr>\n",
       "      <th>Confidence1</th>\n",
       "      <td>730.0</td>\n",
       "      <td>319.177701</td>\n",
       "      <td>57.769768</td>\n",
       "      <td>193.531860</td>\n",
       "      <td>278.825699</td>\n",
       "      <td>315.067993</td>\n",
       "      <td>371.083679</td>\n",
       "      <td>417.567139</td>\n",
       "    </tr>\n",
       "  </tbody>\n",
       "</table>\n",
       "</div>"
      ],
      "text/plain": [
       "             count         mean         std          min          25%  \\\n",
       "FVC          730.0  2579.475721  434.097646  1671.213196  2423.714966   \n",
       "Confidence   730.0   319.177701   57.769768   193.531860   278.825699   \n",
       "FVC1         730.0  2579.475721  434.097646  1671.213196  2423.714966   \n",
       "Confidence1  730.0   319.177701   57.769768   193.531860   278.825699   \n",
       "\n",
       "                     50%          75%          max  \n",
       "FVC          2649.175171  2871.450012  3359.120605  \n",
       "Confidence    315.067993   371.083679   417.567139  \n",
       "FVC1         2649.175171  2871.450012  3359.120605  \n",
       "Confidence1   315.067993   371.083679   417.567139  "
      ]
     },
     "execution_count": 41,
     "metadata": {},
     "output_type": "execute_result"
    }
   ],
   "source": [
    "subm.describe().T"
   ]
  },
  {
   "cell_type": "code",
   "execution_count": 42,
   "metadata": {
    "execution": {
     "iopub.execute_input": "2020-10-05T09:05:27.004978Z",
     "iopub.status.busy": "2020-10-05T09:05:27.004268Z",
     "iopub.status.idle": "2020-10-05T09:05:27.007670Z",
     "shell.execute_reply": "2020-10-05T09:05:27.008110Z"
    },
    "papermill": {
     "duration": 0.093123,
     "end_time": "2020-10-05T09:05:27.008227",
     "exception": false,
     "start_time": "2020-10-05T09:05:26.915104",
     "status": "completed"
    },
    "tags": []
   },
   "outputs": [],
   "source": [
    "otest = pd.read_csv('../input/osic-pulmonary-fibrosis-progression/test.csv')\n",
    "for i in range(len(otest)):\n",
    "    subm.loc[subm['Patient_Week']==otest.Patient[i]+'_'+str(otest.Weeks[i]), 'FVC'] = otest.FVC[i]\n",
    "    subm.loc[subm['Patient_Week']==otest.Patient[i]+'_'+str(otest.Weeks[i]), 'Confidence'] = 0.1"
   ]
  },
  {
   "cell_type": "code",
   "execution_count": 43,
   "metadata": {
    "execution": {
     "iopub.execute_input": "2020-10-05T09:05:27.125110Z",
     "iopub.status.busy": "2020-10-05T09:05:27.124289Z",
     "iopub.status.idle": "2020-10-05T09:05:27.133221Z",
     "shell.execute_reply": "2020-10-05T09:05:27.132704Z"
    },
    "papermill": {
     "duration": 0.069817,
     "end_time": "2020-10-05T09:05:27.133353",
     "exception": false,
     "start_time": "2020-10-05T09:05:27.063536",
     "status": "completed"
    },
    "tags": []
   },
   "outputs": [],
   "source": [
    "subm[[\"Patient_Week\",\"FVC\",\"Confidence\"]].to_csv(\"submission_regression.csv\", index=False)"
   ]
  },
  {
   "cell_type": "code",
   "execution_count": 44,
   "metadata": {
    "execution": {
     "iopub.execute_input": "2020-10-05T09:05:27.250401Z",
     "iopub.status.busy": "2020-10-05T09:05:27.249764Z",
     "iopub.status.idle": "2020-10-05T09:05:27.253289Z",
     "shell.execute_reply": "2020-10-05T09:05:27.252789Z"
    },
    "papermill": {
     "duration": 0.064003,
     "end_time": "2020-10-05T09:05:27.253381",
     "exception": false,
     "start_time": "2020-10-05T09:05:27.189378",
     "status": "completed"
    },
    "tags": []
   },
   "outputs": [],
   "source": [
    "reg_sub = subm[[\"Patient_Week\",\"FVC\",\"Confidence\"]].copy()"
   ]
  },
  {
   "cell_type": "markdown",
   "metadata": {
    "papermill": {
     "duration": 0.055012,
     "end_time": "2020-10-05T09:05:27.363446",
     "exception": false,
     "start_time": "2020-10-05T09:05:27.308434",
     "status": "completed"
    },
    "tags": []
   },
   "source": [
    "# Ensemble (Simple Blend)"
   ]
  },
  {
   "cell_type": "code",
   "execution_count": 45,
   "metadata": {
    "execution": {
     "iopub.execute_input": "2020-10-05T09:05:27.483201Z",
     "iopub.status.busy": "2020-10-05T09:05:27.480256Z",
     "iopub.status.idle": "2020-10-05T09:05:27.486668Z",
     "shell.execute_reply": "2020-10-05T09:05:27.486160Z"
    },
    "papermill": {
     "duration": 0.068733,
     "end_time": "2020-10-05T09:05:27.486769",
     "exception": false,
     "start_time": "2020-10-05T09:05:27.418036",
     "status": "completed"
    },
    "tags": []
   },
   "outputs": [],
   "source": [
    "df1 = img_sub.sort_values(by=['Patient_Week'], ascending=True).reset_index(drop=True)\n",
    "df2 = reg_sub.sort_values(by=['Patient_Week'], ascending=True).reset_index(drop=True)"
   ]
  },
  {
   "cell_type": "code",
   "execution_count": 46,
   "metadata": {
    "execution": {
     "iopub.execute_input": "2020-10-05T09:05:27.615760Z",
     "iopub.status.busy": "2020-10-05T09:05:27.614874Z",
     "iopub.status.idle": "2020-10-05T09:05:27.618554Z",
     "shell.execute_reply": "2020-10-05T09:05:27.619188Z"
    },
    "papermill": {
     "duration": 0.076792,
     "end_time": "2020-10-05T09:05:27.619344",
     "exception": false,
     "start_time": "2020-10-05T09:05:27.542552",
     "status": "completed"
    },
    "tags": []
   },
   "outputs": [
    {
     "data": {
      "text/html": [
       "<div>\n",
       "<style scoped>\n",
       "    .dataframe tbody tr th:only-of-type {\n",
       "        vertical-align: middle;\n",
       "    }\n",
       "\n",
       "    .dataframe tbody tr th {\n",
       "        vertical-align: top;\n",
       "    }\n",
       "\n",
       "    .dataframe thead th {\n",
       "        text-align: right;\n",
       "    }\n",
       "</style>\n",
       "<table border=\"1\" class=\"dataframe\">\n",
       "  <thead>\n",
       "    <tr style=\"text-align: right;\">\n",
       "      <th></th>\n",
       "      <th>Patient_Week</th>\n",
       "      <th>FVC</th>\n",
       "      <th>Confidence</th>\n",
       "    </tr>\n",
       "  </thead>\n",
       "  <tbody>\n",
       "    <tr>\n",
       "      <th>0</th>\n",
       "      <td>ID00419637202311204720264_-1</td>\n",
       "      <td>3020.074010</td>\n",
       "      <td>178.440218</td>\n",
       "    </tr>\n",
       "    <tr>\n",
       "      <th>1</th>\n",
       "      <td>ID00419637202311204720264_-10</td>\n",
       "      <td>3055.359806</td>\n",
       "      <td>183.966730</td>\n",
       "    </tr>\n",
       "    <tr>\n",
       "      <th>2</th>\n",
       "      <td>ID00419637202311204720264_-11</td>\n",
       "      <td>3059.280487</td>\n",
       "      <td>184.580764</td>\n",
       "    </tr>\n",
       "    <tr>\n",
       "      <th>3</th>\n",
       "      <td>ID00419637202311204720264_-12</td>\n",
       "      <td>3063.201101</td>\n",
       "      <td>185.194799</td>\n",
       "    </tr>\n",
       "    <tr>\n",
       "      <th>4</th>\n",
       "      <td>ID00419637202311204720264_-2</td>\n",
       "      <td>3023.994692</td>\n",
       "      <td>179.054252</td>\n",
       "    </tr>\n",
       "  </tbody>\n",
       "</table>\n",
       "</div>"
      ],
      "text/plain": [
       "                    Patient_Week          FVC  Confidence\n",
       "0   ID00419637202311204720264_-1  3020.074010  178.440218\n",
       "1  ID00419637202311204720264_-10  3055.359806  183.966730\n",
       "2  ID00419637202311204720264_-11  3059.280487  184.580764\n",
       "3  ID00419637202311204720264_-12  3063.201101  185.194799\n",
       "4   ID00419637202311204720264_-2  3023.994692  179.054252"
      ]
     },
     "execution_count": 46,
     "metadata": {},
     "output_type": "execute_result"
    }
   ],
   "source": [
    "df = df1[['Patient_Week']].copy()\n",
    "df['FVC'] = (0.45*df1['FVC'] + 0.55*df2['FVC'])\n",
    "df['Confidence'] = (0.45*df1['Confidence'] + 0.55*df2['Confidence'])\n",
    "df.head()"
   ]
  },
  {
   "cell_type": "code",
   "execution_count": 47,
   "metadata": {
    "execution": {
     "iopub.execute_input": "2020-10-05T09:05:27.740282Z",
     "iopub.status.busy": "2020-10-05T09:05:27.739353Z",
     "iopub.status.idle": "2020-10-05T09:05:27.748555Z",
     "shell.execute_reply": "2020-10-05T09:05:27.749079Z"
    },
    "papermill": {
     "duration": 0.071238,
     "end_time": "2020-10-05T09:05:27.749193",
     "exception": false,
     "start_time": "2020-10-05T09:05:27.677955",
     "status": "completed"
    },
    "tags": []
   },
   "outputs": [],
   "source": [
    "df.to_csv('submission.csv', index=False)"
   ]
  }
 ],
 "metadata": {
  "kernelspec": {
   "display_name": "Python 3",
   "language": "python",
   "name": "python3"
  },
  "language_info": {
   "codemirror_mode": {
    "name": "ipython",
    "version": 3
   },
   "file_extension": ".py",
   "mimetype": "text/x-python",
   "name": "python",
   "nbconvert_exporter": "python",
   "pygments_lexer": "ipython3",
   "version": "3.7.6"
  },
  "papermill": {
   "duration": 196.958096,
   "end_time": "2020-10-05T09:05:29.577830",
   "environment_variables": {},
   "exception": null,
   "input_path": "__notebook__.ipynb",
   "output_path": "__notebook__.ipynb",
   "parameters": {},
   "start_time": "2020-10-05T09:02:12.619734",
   "version": "2.1.0"
  },
  "widgets": {
   "application/vnd.jupyter.widget-state+json": {
    "state": {
     "18a39542417944fe997f2604989c82fd": {
      "model_module": "@jupyter-widgets/controls",
      "model_module_version": "1.5.0",
      "model_name": "DescriptionStyleModel",
      "state": {
       "_model_module": "@jupyter-widgets/controls",
       "_model_module_version": "1.5.0",
       "_model_name": "DescriptionStyleModel",
       "_view_count": null,
       "_view_module": "@jupyter-widgets/base",
       "_view_module_version": "1.2.0",
       "_view_name": "StyleView",
       "description_width": ""
      }
     },
     "366e2485b939417c948814b0a3ff2139": {
      "model_module": "@jupyter-widgets/controls",
      "model_module_version": "1.5.0",
      "model_name": "FloatProgressModel",
      "state": {
       "_dom_classes": [],
       "_model_module": "@jupyter-widgets/controls",
       "_model_module_version": "1.5.0",
       "_model_name": "FloatProgressModel",
       "_view_count": null,
       "_view_module": "@jupyter-widgets/controls",
       "_view_module_version": "1.5.0",
       "_view_name": "ProgressView",
       "bar_style": "success",
       "description": "",
       "description_tooltip": null,
       "layout": "IPY_MODEL_63acf496e7b14fce855c7c4856d31be2",
       "max": 1.0,
       "min": 0.0,
       "orientation": "horizontal",
       "style": "IPY_MODEL_bedb7932c35f4112948fe4823bac7d25",
       "value": 1.0
      }
     },
     "63acf496e7b14fce855c7c4856d31be2": {
      "model_module": "@jupyter-widgets/base",
      "model_module_version": "1.2.0",
      "model_name": "LayoutModel",
      "state": {
       "_model_module": "@jupyter-widgets/base",
       "_model_module_version": "1.2.0",
       "_model_name": "LayoutModel",
       "_view_count": null,
       "_view_module": "@jupyter-widgets/base",
       "_view_module_version": "1.2.0",
       "_view_name": "LayoutView",
       "align_content": null,
       "align_items": null,
       "align_self": null,
       "border": null,
       "bottom": null,
       "display": null,
       "flex": null,
       "flex_flow": null,
       "grid_area": null,
       "grid_auto_columns": null,
       "grid_auto_flow": null,
       "grid_auto_rows": null,
       "grid_column": null,
       "grid_gap": null,
       "grid_row": null,
       "grid_template_areas": null,
       "grid_template_columns": null,
       "grid_template_rows": null,
       "height": null,
       "justify_content": null,
       "justify_items": null,
       "left": null,
       "margin": null,
       "max_height": null,
       "max_width": null,
       "min_height": null,
       "min_width": null,
       "object_fit": null,
       "object_position": null,
       "order": null,
       "overflow": null,
       "overflow_x": null,
       "overflow_y": null,
       "padding": null,
       "right": null,
       "top": null,
       "visibility": null,
       "width": null
      }
     },
     "94ffc2800d05426e858c1dc67fe9c342": {
      "model_module": "@jupyter-widgets/controls",
      "model_module_version": "1.5.0",
      "model_name": "HTMLModel",
      "state": {
       "_dom_classes": [],
       "_model_module": "@jupyter-widgets/controls",
       "_model_module_version": "1.5.0",
       "_model_name": "HTMLModel",
       "_view_count": null,
       "_view_module": "@jupyter-widgets/controls",
       "_view_module_version": "1.5.0",
       "_view_name": "HTMLView",
       "description": "",
       "description_tooltip": null,
       "layout": "IPY_MODEL_fefedecca76c4931a85df5962b88e751",
       "placeholder": "​",
       "style": "IPY_MODEL_18a39542417944fe997f2604989c82fd",
       "value": " 176/? [00:00&lt;00:00, 202.96it/s]"
      }
     },
     "bedb7932c35f4112948fe4823bac7d25": {
      "model_module": "@jupyter-widgets/controls",
      "model_module_version": "1.5.0",
      "model_name": "ProgressStyleModel",
      "state": {
       "_model_module": "@jupyter-widgets/controls",
       "_model_module_version": "1.5.0",
       "_model_name": "ProgressStyleModel",
       "_view_count": null,
       "_view_module": "@jupyter-widgets/base",
       "_view_module_version": "1.2.0",
       "_view_name": "StyleView",
       "bar_color": null,
       "description_width": "initial"
      }
     },
     "d8beae9411ec4c2588cb183dadacf987": {
      "model_module": "@jupyter-widgets/base",
      "model_module_version": "1.2.0",
      "model_name": "LayoutModel",
      "state": {
       "_model_module": "@jupyter-widgets/base",
       "_model_module_version": "1.2.0",
       "_model_name": "LayoutModel",
       "_view_count": null,
       "_view_module": "@jupyter-widgets/base",
       "_view_module_version": "1.2.0",
       "_view_name": "LayoutView",
       "align_content": null,
       "align_items": null,
       "align_self": null,
       "border": null,
       "bottom": null,
       "display": null,
       "flex": null,
       "flex_flow": null,
       "grid_area": null,
       "grid_auto_columns": null,
       "grid_auto_flow": null,
       "grid_auto_rows": null,
       "grid_column": null,
       "grid_gap": null,
       "grid_row": null,
       "grid_template_areas": null,
       "grid_template_columns": null,
       "grid_template_rows": null,
       "height": null,
       "justify_content": null,
       "justify_items": null,
       "left": null,
       "margin": null,
       "max_height": null,
       "max_width": null,
       "min_height": null,
       "min_width": null,
       "object_fit": null,
       "object_position": null,
       "order": null,
       "overflow": null,
       "overflow_x": null,
       "overflow_y": null,
       "padding": null,
       "right": null,
       "top": null,
       "visibility": null,
       "width": null
      }
     },
     "f30423f9d7cf4780a01f51dde8ae36e3": {
      "model_module": "@jupyter-widgets/controls",
      "model_module_version": "1.5.0",
      "model_name": "HBoxModel",
      "state": {
       "_dom_classes": [],
       "_model_module": "@jupyter-widgets/controls",
       "_model_module_version": "1.5.0",
       "_model_name": "HBoxModel",
       "_view_count": null,
       "_view_module": "@jupyter-widgets/controls",
       "_view_module_version": "1.5.0",
       "_view_name": "HBoxView",
       "box_style": "",
       "children": [
        "IPY_MODEL_366e2485b939417c948814b0a3ff2139",
        "IPY_MODEL_94ffc2800d05426e858c1dc67fe9c342"
       ],
       "layout": "IPY_MODEL_d8beae9411ec4c2588cb183dadacf987"
      }
     },
     "fefedecca76c4931a85df5962b88e751": {
      "model_module": "@jupyter-widgets/base",
      "model_module_version": "1.2.0",
      "model_name": "LayoutModel",
      "state": {
       "_model_module": "@jupyter-widgets/base",
       "_model_module_version": "1.2.0",
       "_model_name": "LayoutModel",
       "_view_count": null,
       "_view_module": "@jupyter-widgets/base",
       "_view_module_version": "1.2.0",
       "_view_name": "LayoutView",
       "align_content": null,
       "align_items": null,
       "align_self": null,
       "border": null,
       "bottom": null,
       "display": null,
       "flex": null,
       "flex_flow": null,
       "grid_area": null,
       "grid_auto_columns": null,
       "grid_auto_flow": null,
       "grid_auto_rows": null,
       "grid_column": null,
       "grid_gap": null,
       "grid_row": null,
       "grid_template_areas": null,
       "grid_template_columns": null,
       "grid_template_rows": null,
       "height": null,
       "justify_content": null,
       "justify_items": null,
       "left": null,
       "margin": null,
       "max_height": null,
       "max_width": null,
       "min_height": null,
       "min_width": null,
       "object_fit": null,
       "object_position": null,
       "order": null,
       "overflow": null,
       "overflow_x": null,
       "overflow_y": null,
       "padding": null,
       "right": null,
       "top": null,
       "visibility": null,
       "width": null
      }
     }
    },
    "version_major": 2,
    "version_minor": 0
   }
  }
 },
 "nbformat": 4,
 "nbformat_minor": 4
}
